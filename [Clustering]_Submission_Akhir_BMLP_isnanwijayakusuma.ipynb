{
 "cells": [
  {
   "cell_type": "markdown",
   "metadata": {
    "id": "0tvAKGat01Sd"
   },
   "source": [
    "# **Penting**\n",
    "- Jangan mengubah atau menambahkan cell text yang sudah disediakan, Anda hanya perlu mengerjakan cell code yang sudah disediakan.\n",
    "- Pastikan seluruh kriteria memiliki output yang sesuai, karena jika tidak ada output dianggap tidak selesai.\n",
    "- Misal, Anda menggunakan df = df.dropna() silakan gunakan df.isnull().sum() sebagai tanda sudah berhasil. Silakan sesuaikan seluruh output dengan perintah yang sudah disediakan.\n",
    "- Pastikan Anda melakukan Run All sebelum mengirimkan submission untuk memastikan seluruh cell berjalan dengan baik.\n",
    "- Pastikan Anda menggunakan variabel df dari awal sampai akhir dan tidak diperbolehkan mengganti nama variabel tersebut.\n",
    "- Hapus simbol pagar (#) pada kode yang bertipe komentar jika Anda menerapkan kriteria tambahan\n",
    "- Biarkan simbol pagar (#) jika Anda tidak menerapkan kriteria tambahan\n",
    "- Pastikan Anda mengerjakan sesuai section yang sudah diberikan tanpa mengubah judul atau header yang disediakan."
   ]
  },
  {
   "cell_type": "markdown",
   "metadata": {
    "id": "sKi5D9qVVJvY"
   },
   "source": [
    "# **INFORMASI DATASET**\n",
    "## Latar Belakang\n",
    "\n",
    "Dalam dunia bisnis ritel, pemahaman terhadap perilaku pelanggan menjadi salah satu faktor krusial dalam menentukan strategi pemasaran, peningkatan layanan, serta pengambilan keputusan berbasis data. Salah satu pendekatan yang umum digunakan untuk memahami perilaku pelanggan adalah melalui segmentasi, yaitu proses pengelompokan pelanggan ke dalam beberapa segmen atau kelompok berdasarkan karakteristik tertentu.\n",
    "\n",
    "Dengan menerapkan metode **unsupervised learning**, khususnya **clustering**, proyek ini bertujuan untuk membentuk segmentasi pelanggan yang merepresentasikan pola-pola pembelian yang serupa. Hasil segmentasi ini diharapkan dapat memberikan insight yang bernilai bagi pihak manajemen, khususnya dalam menyusun strategi promosi yang lebih tepat sasaran, mengembangkan program loyalitas, serta mengoptimalkan layanan pelanggan."
   ]
  },
  {
   "cell_type": "markdown",
   "metadata": {
    "id": "fKADPWcFKlj3"
   },
   "source": [
    "# **1. Import Library**\n",
    "Pada tahap ini, Anda perlu mengimpor beberapa pustaka (library) Python yang dibutuhkan untuk analisis data dan pembangunan model machine learning. Semua library yang dibutuhkan harus **import** di **cell** ini, jika ada library yang dijalankan di cell lain maka **submission langsung ditolak**"
   ]
  },
  {
   "cell_type": "code",
   "execution_count": 1,
   "metadata": {
    "executionInfo": {
     "elapsed": 74,
     "status": "ok",
     "timestamp": 1751472390211,
     "user": {
      "displayName": "Isnan Nur Ahmad Wijayakusuma",
      "userId": "07940612313417886072"
     },
     "user_tz": -420
    },
    "id": "BlmvjLY9M4Yj"
   },
   "outputs": [],
   "source": [
    "import pandas as pd\n",
    "import matplotlib.pyplot as plt\n",
    "from sklearn.preprocessing import MinMaxScaler, LabelEncoder\n",
    "from sklearn.cluster import KMeans\n",
    "from sklearn.metrics import silhouette_score\n",
    "from yellowbrick.cluster import KElbowVisualizer\n",
    "import joblib"
   ]
  },
  {
   "cell_type": "markdown",
   "metadata": {
    "id": "f3YIEnAFKrKL"
   },
   "source": [
    "# **2. Memuat Dataset**\n",
    "Pada tahap ini, Anda perlu memuat dataset ke dalam notebook lalu mengecek informasi dataset sebelum nantinya dilakukan pembersihan. Hal-hal yang perlu dilakukan pada tahapan ini yaitu:\n",
    "1. **Memahami Struktur Data**\n",
    "   - Dataset harus mengambil referensi wajib digunakan (bisa dilihat [Disini](https://drive.google.com/drive/folders/1Zs7VmPZ-jNwsRlMKH65Ea-LApSwx6lKx?usp=drive_link))\n",
    "   - Melakukan loading dataset ke dalam notebook dan menampilkan 5 baris pertama dengan function `head`.\n",
    "   - Tinjau jumlah baris kolom dan jenis data dalam dataset dengan function `info`.  \n",
    "   - Menampilkan statistik deskriptif dataset dengan menjalankan `describe`.\n",
    "   - Pastikan **setiap function tersebut** memiliki **output pada setiap cell** code. Jika tidak **submission langsung ditolak**\n",
    "   "
   ]
  },
  {
   "cell_type": "markdown",
   "metadata": {
    "id": "JgKXTwx2LMQA"
   },
   "source": [
    "Gunakan code ini untuk melakukan load data secara otomatis tanpa harus download data tersebut secara manual:\n",
    "```python\n",
    "url='https://drive.google.com/uc?id=1gnLO9qvEPqv1uBt1928AcsCmdvzqjC5m'\n",
    "df = pd.read_csv(url)\n",
    "```"
   ]
  },
  {
   "cell_type": "markdown",
   "metadata": {
    "id": "9d2RyUOuefWa"
   },
   "source": [
    "Penting: pada kriteria pertama hindari penggunaan print() dan display() karena seluruh fungsi yang digunakan sudah memiliki standar output dan menghasilkan output yang diharapkan.\n",
    "\n",
    "Kriteria 1 akan ditolak ketika:\n",
    "- print(__.head())\n",
    "- display(___.head())\n",
    "dst\n",
    "\n",
    "Kriteria 1 akan diterima ketika Anda menggunakan fungsi yang diminta tanpa menambahkan deskripsi apapun."
   ]
  },
  {
   "cell_type": "code",
   "execution_count": 2,
   "metadata": {
    "executionInfo": {
     "elapsed": 1418,
     "status": "ok",
     "timestamp": 1751472391653,
     "user": {
      "displayName": "Isnan Nur Ahmad Wijayakusuma",
      "userId": "07940612313417886072"
     },
     "user_tz": -420
    },
    "id": "-tfuxA86YztE"
   },
   "outputs": [],
   "source": [
    "url='https://drive.google.com/uc?id=1gnLO9qvEPqv1uBt1928AcsCmdvzqjC5m'\n",
    "df = pd.read_csv(url)"
   ]
  },
  {
   "cell_type": "code",
   "execution_count": 3,
   "metadata": {
    "colab": {
     "base_uri": "https://localhost:8080/",
     "height": 313
    },
    "executionInfo": {
     "elapsed": 15,
     "status": "ok",
     "timestamp": 1751472391670,
     "user": {
      "displayName": "Isnan Nur Ahmad Wijayakusuma",
      "userId": "07940612313417886072"
     },
     "user_tz": -420
    },
    "id": "GHCGNTyrM5fS",
    "outputId": "b963dc48-a351-454a-851f-30e1d3df660c"
   },
   "outputs": [
    {
     "data": {
      "text/html": [
       "<div>\n",
       "<style scoped>\n",
       "    .dataframe tbody tr th:only-of-type {\n",
       "        vertical-align: middle;\n",
       "    }\n",
       "\n",
       "    .dataframe tbody tr th {\n",
       "        vertical-align: top;\n",
       "    }\n",
       "\n",
       "    .dataframe thead th {\n",
       "        text-align: right;\n",
       "    }\n",
       "</style>\n",
       "<table border=\"1\" class=\"dataframe\">\n",
       "  <thead>\n",
       "    <tr style=\"text-align: right;\">\n",
       "      <th></th>\n",
       "      <th>TransactionID</th>\n",
       "      <th>AccountID</th>\n",
       "      <th>TransactionAmount</th>\n",
       "      <th>TransactionDate</th>\n",
       "      <th>TransactionType</th>\n",
       "      <th>Location</th>\n",
       "      <th>DeviceID</th>\n",
       "      <th>IP Address</th>\n",
       "      <th>MerchantID</th>\n",
       "      <th>Channel</th>\n",
       "      <th>CustomerAge</th>\n",
       "      <th>CustomerOccupation</th>\n",
       "      <th>TransactionDuration</th>\n",
       "      <th>LoginAttempts</th>\n",
       "      <th>AccountBalance</th>\n",
       "      <th>PreviousTransactionDate</th>\n",
       "    </tr>\n",
       "  </thead>\n",
       "  <tbody>\n",
       "    <tr>\n",
       "      <th>0</th>\n",
       "      <td>TX000001</td>\n",
       "      <td>AC00128</td>\n",
       "      <td>14.09</td>\n",
       "      <td>2023-04-11 16:29:14</td>\n",
       "      <td>Debit</td>\n",
       "      <td>San Diego</td>\n",
       "      <td>D000380</td>\n",
       "      <td>162.198.218.92</td>\n",
       "      <td>M015</td>\n",
       "      <td>ATM</td>\n",
       "      <td>70.0</td>\n",
       "      <td>Doctor</td>\n",
       "      <td>81.0</td>\n",
       "      <td>1.0</td>\n",
       "      <td>5112.21</td>\n",
       "      <td>2024-11-04 08:08:08</td>\n",
       "    </tr>\n",
       "    <tr>\n",
       "      <th>1</th>\n",
       "      <td>TX000002</td>\n",
       "      <td>AC00455</td>\n",
       "      <td>376.24</td>\n",
       "      <td>2023-06-27 16:44:19</td>\n",
       "      <td>Debit</td>\n",
       "      <td>Houston</td>\n",
       "      <td>D000051</td>\n",
       "      <td>13.149.61.4</td>\n",
       "      <td>M052</td>\n",
       "      <td>ATM</td>\n",
       "      <td>68.0</td>\n",
       "      <td>Doctor</td>\n",
       "      <td>141.0</td>\n",
       "      <td>1.0</td>\n",
       "      <td>13758.91</td>\n",
       "      <td>2024-11-04 08:09:35</td>\n",
       "    </tr>\n",
       "    <tr>\n",
       "      <th>2</th>\n",
       "      <td>TX000003</td>\n",
       "      <td>AC00019</td>\n",
       "      <td>126.29</td>\n",
       "      <td>2023-07-10 18:16:08</td>\n",
       "      <td>Debit</td>\n",
       "      <td>Mesa</td>\n",
       "      <td>D000235</td>\n",
       "      <td>215.97.143.157</td>\n",
       "      <td>M009</td>\n",
       "      <td>Online</td>\n",
       "      <td>19.0</td>\n",
       "      <td>Student</td>\n",
       "      <td>56.0</td>\n",
       "      <td>1.0</td>\n",
       "      <td>1122.35</td>\n",
       "      <td>2024-11-04 08:07:04</td>\n",
       "    </tr>\n",
       "    <tr>\n",
       "      <th>3</th>\n",
       "      <td>TX000004</td>\n",
       "      <td>AC00070</td>\n",
       "      <td>184.50</td>\n",
       "      <td>2023-05-05 16:32:11</td>\n",
       "      <td>Debit</td>\n",
       "      <td>Raleigh</td>\n",
       "      <td>D000187</td>\n",
       "      <td>200.13.225.150</td>\n",
       "      <td>M002</td>\n",
       "      <td>Online</td>\n",
       "      <td>26.0</td>\n",
       "      <td>Student</td>\n",
       "      <td>25.0</td>\n",
       "      <td>1.0</td>\n",
       "      <td>8569.06</td>\n",
       "      <td>2024-11-04 08:09:06</td>\n",
       "    </tr>\n",
       "    <tr>\n",
       "      <th>4</th>\n",
       "      <td>TX000005</td>\n",
       "      <td>AC00411</td>\n",
       "      <td>13.45</td>\n",
       "      <td>2023-10-16 17:51:24</td>\n",
       "      <td>Credit</td>\n",
       "      <td>Atlanta</td>\n",
       "      <td>D000308</td>\n",
       "      <td>65.164.3.100</td>\n",
       "      <td>M091</td>\n",
       "      <td>Online</td>\n",
       "      <td>NaN</td>\n",
       "      <td>Student</td>\n",
       "      <td>198.0</td>\n",
       "      <td>1.0</td>\n",
       "      <td>7429.40</td>\n",
       "      <td>2024-11-04 08:06:39</td>\n",
       "    </tr>\n",
       "  </tbody>\n",
       "</table>\n",
       "</div>"
      ],
      "text/plain": [
       "  TransactionID AccountID  TransactionAmount      TransactionDate  \\\n",
       "0      TX000001   AC00128              14.09  2023-04-11 16:29:14   \n",
       "1      TX000002   AC00455             376.24  2023-06-27 16:44:19   \n",
       "2      TX000003   AC00019             126.29  2023-07-10 18:16:08   \n",
       "3      TX000004   AC00070             184.50  2023-05-05 16:32:11   \n",
       "4      TX000005   AC00411              13.45  2023-10-16 17:51:24   \n",
       "\n",
       "  TransactionType   Location DeviceID      IP Address MerchantID Channel  \\\n",
       "0           Debit  San Diego  D000380  162.198.218.92       M015     ATM   \n",
       "1           Debit    Houston  D000051     13.149.61.4       M052     ATM   \n",
       "2           Debit       Mesa  D000235  215.97.143.157       M009  Online   \n",
       "3           Debit    Raleigh  D000187  200.13.225.150       M002  Online   \n",
       "4          Credit    Atlanta  D000308    65.164.3.100       M091  Online   \n",
       "\n",
       "   CustomerAge CustomerOccupation  TransactionDuration  LoginAttempts  \\\n",
       "0         70.0             Doctor                 81.0            1.0   \n",
       "1         68.0             Doctor                141.0            1.0   \n",
       "2         19.0            Student                 56.0            1.0   \n",
       "3         26.0            Student                 25.0            1.0   \n",
       "4          NaN            Student                198.0            1.0   \n",
       "\n",
       "   AccountBalance PreviousTransactionDate  \n",
       "0         5112.21     2024-11-04 08:08:08  \n",
       "1        13758.91     2024-11-04 08:09:35  \n",
       "2         1122.35     2024-11-04 08:07:04  \n",
       "3         8569.06     2024-11-04 08:09:06  \n",
       "4         7429.40     2024-11-04 08:06:39  "
      ]
     },
     "execution_count": 3,
     "metadata": {},
     "output_type": "execute_result"
    }
   ],
   "source": [
    "df.head(5)"
   ]
  },
  {
   "cell_type": "code",
   "execution_count": 4,
   "metadata": {
    "colab": {
     "base_uri": "https://localhost:8080/"
    },
    "executionInfo": {
     "elapsed": 11,
     "status": "ok",
     "timestamp": 1751472391682,
     "user": {
      "displayName": "Isnan Nur Ahmad Wijayakusuma",
      "userId": "07940612313417886072"
     },
     "user_tz": -420
    },
    "id": "0MgRVyMLnR5h",
    "outputId": "b3f234b5-9f8c-4811-d078-a3991040e58a"
   },
   "outputs": [
    {
     "name": "stdout",
     "output_type": "stream",
     "text": [
      "<class 'pandas.core.frame.DataFrame'>\n",
      "RangeIndex: 2537 entries, 0 to 2536\n",
      "Data columns (total 16 columns):\n",
      " #   Column                   Non-Null Count  Dtype  \n",
      "---  ------                   --------------  -----  \n",
      " 0   TransactionID            2508 non-null   object \n",
      " 1   AccountID                2516 non-null   object \n",
      " 2   TransactionAmount        2511 non-null   float64\n",
      " 3   TransactionDate          2509 non-null   object \n",
      " 4   TransactionType          2507 non-null   object \n",
      " 5   Location                 2507 non-null   object \n",
      " 6   DeviceID                 2507 non-null   object \n",
      " 7   IP Address               2517 non-null   object \n",
      " 8   MerchantID               2514 non-null   object \n",
      " 9   Channel                  2510 non-null   object \n",
      " 10  CustomerAge              2519 non-null   float64\n",
      " 11  CustomerOccupation       2514 non-null   object \n",
      " 12  TransactionDuration      2511 non-null   float64\n",
      " 13  LoginAttempts            2516 non-null   float64\n",
      " 14  AccountBalance           2510 non-null   float64\n",
      " 15  PreviousTransactionDate  2513 non-null   object \n",
      "dtypes: float64(5), object(11)\n",
      "memory usage: 317.2+ KB\n"
     ]
    }
   ],
   "source": [
    "df.info()"
   ]
  },
  {
   "cell_type": "code",
   "execution_count": 5,
   "metadata": {
    "colab": {
     "base_uri": "https://localhost:8080/",
     "height": 432
    },
    "executionInfo": {
     "elapsed": 93,
     "status": "ok",
     "timestamp": 1751472391777,
     "user": {
      "displayName": "Isnan Nur Ahmad Wijayakusuma",
      "userId": "07940612313417886072"
     },
     "user_tz": -420
    },
    "id": "hN9KsJPonVKT",
    "outputId": "428dd475-cdbf-489e-fb8d-636d22b8f0b8"
   },
   "outputs": [
    {
     "data": {
      "text/html": [
       "<div>\n",
       "<style scoped>\n",
       "    .dataframe tbody tr th:only-of-type {\n",
       "        vertical-align: middle;\n",
       "    }\n",
       "\n",
       "    .dataframe tbody tr th {\n",
       "        vertical-align: top;\n",
       "    }\n",
       "\n",
       "    .dataframe thead th {\n",
       "        text-align: right;\n",
       "    }\n",
       "</style>\n",
       "<table border=\"1\" class=\"dataframe\">\n",
       "  <thead>\n",
       "    <tr style=\"text-align: right;\">\n",
       "      <th></th>\n",
       "      <th>TransactionID</th>\n",
       "      <th>AccountID</th>\n",
       "      <th>TransactionAmount</th>\n",
       "      <th>TransactionDate</th>\n",
       "      <th>TransactionType</th>\n",
       "      <th>Location</th>\n",
       "      <th>DeviceID</th>\n",
       "      <th>IP Address</th>\n",
       "      <th>MerchantID</th>\n",
       "      <th>Channel</th>\n",
       "      <th>CustomerAge</th>\n",
       "      <th>CustomerOccupation</th>\n",
       "      <th>TransactionDuration</th>\n",
       "      <th>LoginAttempts</th>\n",
       "      <th>AccountBalance</th>\n",
       "      <th>PreviousTransactionDate</th>\n",
       "    </tr>\n",
       "  </thead>\n",
       "  <tbody>\n",
       "    <tr>\n",
       "      <th>count</th>\n",
       "      <td>2508</td>\n",
       "      <td>2516</td>\n",
       "      <td>2511.000000</td>\n",
       "      <td>2509</td>\n",
       "      <td>2507</td>\n",
       "      <td>2507</td>\n",
       "      <td>2507</td>\n",
       "      <td>2517</td>\n",
       "      <td>2514</td>\n",
       "      <td>2510</td>\n",
       "      <td>2519.000000</td>\n",
       "      <td>2514</td>\n",
       "      <td>2511.000000</td>\n",
       "      <td>2516.000000</td>\n",
       "      <td>2510.000000</td>\n",
       "      <td>2513</td>\n",
       "    </tr>\n",
       "    <tr>\n",
       "      <th>unique</th>\n",
       "      <td>2484</td>\n",
       "      <td>495</td>\n",
       "      <td>NaN</td>\n",
       "      <td>2485</td>\n",
       "      <td>2</td>\n",
       "      <td>43</td>\n",
       "      <td>681</td>\n",
       "      <td>591</td>\n",
       "      <td>100</td>\n",
       "      <td>3</td>\n",
       "      <td>NaN</td>\n",
       "      <td>4</td>\n",
       "      <td>NaN</td>\n",
       "      <td>NaN</td>\n",
       "      <td>NaN</td>\n",
       "      <td>360</td>\n",
       "    </tr>\n",
       "    <tr>\n",
       "      <th>top</th>\n",
       "      <td>TX000592</td>\n",
       "      <td>AC00363</td>\n",
       "      <td>NaN</td>\n",
       "      <td>2023-10-20 17:53:13</td>\n",
       "      <td>Debit</td>\n",
       "      <td>Fort Worth</td>\n",
       "      <td>D000315</td>\n",
       "      <td>200.136.146.93</td>\n",
       "      <td>M026</td>\n",
       "      <td>Branch</td>\n",
       "      <td>NaN</td>\n",
       "      <td>Student</td>\n",
       "      <td>NaN</td>\n",
       "      <td>NaN</td>\n",
       "      <td>NaN</td>\n",
       "      <td>2024-11-04 08:09:17</td>\n",
       "    </tr>\n",
       "    <tr>\n",
       "      <th>freq</th>\n",
       "      <td>2</td>\n",
       "      <td>12</td>\n",
       "      <td>NaN</td>\n",
       "      <td>2</td>\n",
       "      <td>1942</td>\n",
       "      <td>71</td>\n",
       "      <td>9</td>\n",
       "      <td>12</td>\n",
       "      <td>46</td>\n",
       "      <td>868</td>\n",
       "      <td>NaN</td>\n",
       "      <td>657</td>\n",
       "      <td>NaN</td>\n",
       "      <td>NaN</td>\n",
       "      <td>NaN</td>\n",
       "      <td>18</td>\n",
       "    </tr>\n",
       "    <tr>\n",
       "      <th>mean</th>\n",
       "      <td>NaN</td>\n",
       "      <td>NaN</td>\n",
       "      <td>297.656468</td>\n",
       "      <td>NaN</td>\n",
       "      <td>NaN</td>\n",
       "      <td>NaN</td>\n",
       "      <td>NaN</td>\n",
       "      <td>NaN</td>\n",
       "      <td>NaN</td>\n",
       "      <td>NaN</td>\n",
       "      <td>44.678444</td>\n",
       "      <td>NaN</td>\n",
       "      <td>119.422939</td>\n",
       "      <td>1.121622</td>\n",
       "      <td>5113.438124</td>\n",
       "      <td>NaN</td>\n",
       "    </tr>\n",
       "    <tr>\n",
       "      <th>std</th>\n",
       "      <td>NaN</td>\n",
       "      <td>NaN</td>\n",
       "      <td>292.230367</td>\n",
       "      <td>NaN</td>\n",
       "      <td>NaN</td>\n",
       "      <td>NaN</td>\n",
       "      <td>NaN</td>\n",
       "      <td>NaN</td>\n",
       "      <td>NaN</td>\n",
       "      <td>NaN</td>\n",
       "      <td>17.837359</td>\n",
       "      <td>NaN</td>\n",
       "      <td>70.078513</td>\n",
       "      <td>0.594469</td>\n",
       "      <td>3897.975861</td>\n",
       "      <td>NaN</td>\n",
       "    </tr>\n",
       "    <tr>\n",
       "      <th>min</th>\n",
       "      <td>NaN</td>\n",
       "      <td>NaN</td>\n",
       "      <td>0.260000</td>\n",
       "      <td>NaN</td>\n",
       "      <td>NaN</td>\n",
       "      <td>NaN</td>\n",
       "      <td>NaN</td>\n",
       "      <td>NaN</td>\n",
       "      <td>NaN</td>\n",
       "      <td>NaN</td>\n",
       "      <td>18.000000</td>\n",
       "      <td>NaN</td>\n",
       "      <td>10.000000</td>\n",
       "      <td>1.000000</td>\n",
       "      <td>101.250000</td>\n",
       "      <td>NaN</td>\n",
       "    </tr>\n",
       "    <tr>\n",
       "      <th>25%</th>\n",
       "      <td>NaN</td>\n",
       "      <td>NaN</td>\n",
       "      <td>81.310000</td>\n",
       "      <td>NaN</td>\n",
       "      <td>NaN</td>\n",
       "      <td>NaN</td>\n",
       "      <td>NaN</td>\n",
       "      <td>NaN</td>\n",
       "      <td>NaN</td>\n",
       "      <td>NaN</td>\n",
       "      <td>27.000000</td>\n",
       "      <td>NaN</td>\n",
       "      <td>63.000000</td>\n",
       "      <td>1.000000</td>\n",
       "      <td>1504.727500</td>\n",
       "      <td>NaN</td>\n",
       "    </tr>\n",
       "    <tr>\n",
       "      <th>50%</th>\n",
       "      <td>NaN</td>\n",
       "      <td>NaN</td>\n",
       "      <td>211.360000</td>\n",
       "      <td>NaN</td>\n",
       "      <td>NaN</td>\n",
       "      <td>NaN</td>\n",
       "      <td>NaN</td>\n",
       "      <td>NaN</td>\n",
       "      <td>NaN</td>\n",
       "      <td>NaN</td>\n",
       "      <td>45.000000</td>\n",
       "      <td>NaN</td>\n",
       "      <td>112.000000</td>\n",
       "      <td>1.000000</td>\n",
       "      <td>4734.110000</td>\n",
       "      <td>NaN</td>\n",
       "    </tr>\n",
       "    <tr>\n",
       "      <th>75%</th>\n",
       "      <td>NaN</td>\n",
       "      <td>NaN</td>\n",
       "      <td>413.105000</td>\n",
       "      <td>NaN</td>\n",
       "      <td>NaN</td>\n",
       "      <td>NaN</td>\n",
       "      <td>NaN</td>\n",
       "      <td>NaN</td>\n",
       "      <td>NaN</td>\n",
       "      <td>NaN</td>\n",
       "      <td>59.000000</td>\n",
       "      <td>NaN</td>\n",
       "      <td>161.000000</td>\n",
       "      <td>1.000000</td>\n",
       "      <td>7672.687500</td>\n",
       "      <td>NaN</td>\n",
       "    </tr>\n",
       "    <tr>\n",
       "      <th>max</th>\n",
       "      <td>NaN</td>\n",
       "      <td>NaN</td>\n",
       "      <td>1919.110000</td>\n",
       "      <td>NaN</td>\n",
       "      <td>NaN</td>\n",
       "      <td>NaN</td>\n",
       "      <td>NaN</td>\n",
       "      <td>NaN</td>\n",
       "      <td>NaN</td>\n",
       "      <td>NaN</td>\n",
       "      <td>80.000000</td>\n",
       "      <td>NaN</td>\n",
       "      <td>300.000000</td>\n",
       "      <td>5.000000</td>\n",
       "      <td>14977.990000</td>\n",
       "      <td>NaN</td>\n",
       "    </tr>\n",
       "  </tbody>\n",
       "</table>\n",
       "</div>"
      ],
      "text/plain": [
       "       TransactionID AccountID  TransactionAmount      TransactionDate  \\\n",
       "count           2508      2516        2511.000000                 2509   \n",
       "unique          2484       495                NaN                 2485   \n",
       "top         TX000592   AC00363                NaN  2023-10-20 17:53:13   \n",
       "freq               2        12                NaN                    2   \n",
       "mean             NaN       NaN         297.656468                  NaN   \n",
       "std              NaN       NaN         292.230367                  NaN   \n",
       "min              NaN       NaN           0.260000                  NaN   \n",
       "25%              NaN       NaN          81.310000                  NaN   \n",
       "50%              NaN       NaN         211.360000                  NaN   \n",
       "75%              NaN       NaN         413.105000                  NaN   \n",
       "max              NaN       NaN        1919.110000                  NaN   \n",
       "\n",
       "       TransactionType    Location DeviceID      IP Address MerchantID  \\\n",
       "count             2507        2507     2507            2517       2514   \n",
       "unique               2          43      681             591        100   \n",
       "top              Debit  Fort Worth  D000315  200.136.146.93       M026   \n",
       "freq              1942          71        9              12         46   \n",
       "mean               NaN         NaN      NaN             NaN        NaN   \n",
       "std                NaN         NaN      NaN             NaN        NaN   \n",
       "min                NaN         NaN      NaN             NaN        NaN   \n",
       "25%                NaN         NaN      NaN             NaN        NaN   \n",
       "50%                NaN         NaN      NaN             NaN        NaN   \n",
       "75%                NaN         NaN      NaN             NaN        NaN   \n",
       "max                NaN         NaN      NaN             NaN        NaN   \n",
       "\n",
       "       Channel  CustomerAge CustomerOccupation  TransactionDuration  \\\n",
       "count     2510  2519.000000               2514          2511.000000   \n",
       "unique       3          NaN                  4                  NaN   \n",
       "top     Branch          NaN            Student                  NaN   \n",
       "freq       868          NaN                657                  NaN   \n",
       "mean       NaN    44.678444                NaN           119.422939   \n",
       "std        NaN    17.837359                NaN            70.078513   \n",
       "min        NaN    18.000000                NaN            10.000000   \n",
       "25%        NaN    27.000000                NaN            63.000000   \n",
       "50%        NaN    45.000000                NaN           112.000000   \n",
       "75%        NaN    59.000000                NaN           161.000000   \n",
       "max        NaN    80.000000                NaN           300.000000   \n",
       "\n",
       "        LoginAttempts  AccountBalance PreviousTransactionDate  \n",
       "count     2516.000000     2510.000000                    2513  \n",
       "unique            NaN             NaN                     360  \n",
       "top               NaN             NaN     2024-11-04 08:09:17  \n",
       "freq              NaN             NaN                      18  \n",
       "mean         1.121622     5113.438124                     NaN  \n",
       "std          0.594469     3897.975861                     NaN  \n",
       "min          1.000000      101.250000                     NaN  \n",
       "25%          1.000000     1504.727500                     NaN  \n",
       "50%          1.000000     4734.110000                     NaN  \n",
       "75%          1.000000     7672.687500                     NaN  \n",
       "max          5.000000    14977.990000                     NaN  "
      ]
     },
     "execution_count": 5,
     "metadata": {},
     "output_type": "execute_result"
    }
   ],
   "source": [
    "df.describe(include=\"all\")"
   ]
  },
  {
   "cell_type": "markdown",
   "metadata": {
    "id": "DNOEZk24uiXu"
   },
   "source": [
    "(Opsional) Memuat Dataset dan Melakukan Exploratory Data Analysis (EDA) [Skilled]\n",
    "\n",
    "**Biarkan kosong jika tidak menerapkan kriteria skilled**"
   ]
  },
  {
   "cell_type": "code",
   "execution_count": 6,
   "metadata": {
    "colab": {
     "base_uri": "https://localhost:8080/",
     "height": 226
    },
    "executionInfo": {
     "elapsed": 52,
     "status": "ok",
     "timestamp": 1751472391830,
     "user": {
      "displayName": "Isnan Nur Ahmad Wijayakusuma",
      "userId": "07940612313417886072"
     },
     "user_tz": -420
    },
    "id": "DGAJlKExnYAt",
    "outputId": "d7974e8e-ce2d-414f-c8e1-201050100d84"
   },
   "outputs": [
    {
     "data": {
      "text/html": [
       "<div>\n",
       "<style scoped>\n",
       "    .dataframe tbody tr th:only-of-type {\n",
       "        vertical-align: middle;\n",
       "    }\n",
       "\n",
       "    .dataframe tbody tr th {\n",
       "        vertical-align: top;\n",
       "    }\n",
       "\n",
       "    .dataframe thead th {\n",
       "        text-align: right;\n",
       "    }\n",
       "</style>\n",
       "<table border=\"1\" class=\"dataframe\">\n",
       "  <thead>\n",
       "    <tr style=\"text-align: right;\">\n",
       "      <th></th>\n",
       "      <th>TransactionAmount</th>\n",
       "      <th>CustomerAge</th>\n",
       "      <th>TransactionDuration</th>\n",
       "      <th>LoginAttempts</th>\n",
       "      <th>AccountBalance</th>\n",
       "    </tr>\n",
       "  </thead>\n",
       "  <tbody>\n",
       "    <tr>\n",
       "      <th>TransactionAmount</th>\n",
       "      <td>1.000000</td>\n",
       "      <td>-0.024428</td>\n",
       "      <td>0.004782</td>\n",
       "      <td>-0.007397</td>\n",
       "      <td>-0.026310</td>\n",
       "    </tr>\n",
       "    <tr>\n",
       "      <th>CustomerAge</th>\n",
       "      <td>-0.024428</td>\n",
       "      <td>1.000000</td>\n",
       "      <td>-0.009852</td>\n",
       "      <td>0.007876</td>\n",
       "      <td>0.321161</td>\n",
       "    </tr>\n",
       "    <tr>\n",
       "      <th>TransactionDuration</th>\n",
       "      <td>0.004782</td>\n",
       "      <td>-0.009852</td>\n",
       "      <td>1.000000</td>\n",
       "      <td>0.030076</td>\n",
       "      <td>0.006859</td>\n",
       "    </tr>\n",
       "    <tr>\n",
       "      <th>LoginAttempts</th>\n",
       "      <td>-0.007397</td>\n",
       "      <td>0.007876</td>\n",
       "      <td>0.030076</td>\n",
       "      <td>1.000000</td>\n",
       "      <td>0.009088</td>\n",
       "    </tr>\n",
       "    <tr>\n",
       "      <th>AccountBalance</th>\n",
       "      <td>-0.026310</td>\n",
       "      <td>0.321161</td>\n",
       "      <td>0.006859</td>\n",
       "      <td>0.009088</td>\n",
       "      <td>1.000000</td>\n",
       "    </tr>\n",
       "  </tbody>\n",
       "</table>\n",
       "</div>"
      ],
      "text/plain": [
       "                     TransactionAmount  CustomerAge  TransactionDuration  \\\n",
       "TransactionAmount             1.000000    -0.024428             0.004782   \n",
       "CustomerAge                  -0.024428     1.000000            -0.009852   \n",
       "TransactionDuration           0.004782    -0.009852             1.000000   \n",
       "LoginAttempts                -0.007397     0.007876             0.030076   \n",
       "AccountBalance               -0.026310     0.321161             0.006859   \n",
       "\n",
       "                     LoginAttempts  AccountBalance  \n",
       "TransactionAmount        -0.007397       -0.026310  \n",
       "CustomerAge               0.007876        0.321161  \n",
       "TransactionDuration       0.030076        0.006859  \n",
       "LoginAttempts             1.000000        0.009088  \n",
       "AccountBalance            0.009088        1.000000  "
      ]
     },
     "execution_count": 6,
     "metadata": {},
     "output_type": "execute_result"
    }
   ],
   "source": [
    "# Menampilkan korelasi antar fitur\n",
    "df.corr(numeric_only=True)"
   ]
  },
  {
   "cell_type": "code",
   "execution_count": 7,
   "metadata": {
    "colab": {
     "base_uri": "https://localhost:8080/",
     "height": 517
    },
    "executionInfo": {
     "elapsed": 1765,
     "status": "ok",
     "timestamp": 1751472393596,
     "user": {
      "displayName": "Isnan Nur Ahmad Wijayakusuma",
      "userId": "07940612313417886072"
     },
     "user_tz": -420
    },
    "id": "kcBn9v4Fn8FO",
    "outputId": "288a58cd-a246-4065-d954-b840b0505d71"
   },
   "outputs": [
    {
     "data": {
      "image/png": "[encoded data removed]",
      "text/plain": [
       "<Figure size 1000x800 with 6 Axes>"
      ]
     },
     "metadata": {},
     "output_type": "display_data"
    }
   ],
   "source": [
    "# Menampilkan histogram untuk semua kolom numerik (Opsional Skilled 1)\n",
    "df.hist(figsize=(10, 8))\n",
    "plt.tight_layout()\n",
    "plt.show()"
   ]
  },
  {
   "cell_type": "markdown",
   "metadata": {
    "id": "k-S35baFuwaP"
   },
   "source": [
    "(Opsional) Memuat Dataset dan Melakukan Exploratory Data Analysis (EDA) [Advanced]\n",
    "\n",
    "**Biarkan kosong jika tidak menerapkan kriteria advanced**"
   ]
  },
  {
   "cell_type": "code",
   "execution_count": 8,
   "metadata": {
    "executionInfo": {
     "elapsed": 4,
     "status": "ok",
     "timestamp": 1751472393603,
     "user": {
      "displayName": "Isnan Nur Ahmad Wijayakusuma",
      "userId": "07940612313417886072"
     },
     "user_tz": -420
    },
    "id": "GVIuT8VDokKn"
   },
   "outputs": [],
   "source": [
    "# Visualisasi yang lebih informatif (Opsional Advanced 1)"
   ]
  },
  {
   "cell_type": "markdown",
   "metadata": {
    "id": "cSemyzQHU0On"
   },
   "source": [
    "# **3. Pembersihan dan Pra Pemrosesan Data**\n",
    "\n",
    "Pada tahap ini, Anda akan melakukan **Pembersihan Dataset** untuk menjadikan dataset mudah diintepretasi dan bisa dilatih. Hal-hal yang wajib kamu lakukan yaitu:\n",
    "\n",
    "1. **Mengecek dataset** menggunakan isnull().sum() dan duplicated().sum().\n",
    "2. Melakukan feature scaling menggunakan `MinMaxScaler()` atau `StandardScalar()` untuk fitur numerik.\n",
    "3. Melakukan feature encoding menggunakan `LabelEncoder()` untuk fitur kategorikal.\n",
    "4. Melakukan drop pada kolom id.\n",
    "5. **Ketentuan Cell Code**\n",
    "   - Pastikan **setiap pemeriksaan tersebut** memiliki **output pada cell-nya**. Jika tidak **submission langsung ditolak**\n"
   ]
  },
  {
   "cell_type": "code",
   "execution_count": 9,
   "metadata": {
    "colab": {
     "base_uri": "https://localhost:8080/",
     "height": 586
    },
    "executionInfo": {
     "elapsed": 5,
     "status": "ok",
     "timestamp": 1751472393610,
     "user": {
      "displayName": "Isnan Nur Ahmad Wijayakusuma",
      "userId": "07940612313417886072"
     },
     "user_tz": -420
    },
    "id": "dKeejtvxM6X1",
    "outputId": "84ed4668-6c2d-4176-9660-79d7ce23efb1"
   },
   "outputs": [
    {
     "data": {
      "text/plain": [
       "TransactionID              29\n",
       "AccountID                  21\n",
       "TransactionAmount          26\n",
       "TransactionDate            28\n",
       "TransactionType            30\n",
       "Location                   30\n",
       "DeviceID                   30\n",
       "IP Address                 20\n",
       "MerchantID                 23\n",
       "Channel                    27\n",
       "CustomerAge                18\n",
       "CustomerOccupation         23\n",
       "TransactionDuration        26\n",
       "LoginAttempts              21\n",
       "AccountBalance             27\n",
       "PreviousTransactionDate    24\n",
       "dtype: int64"
      ]
     },
     "execution_count": 9,
     "metadata": {},
     "output_type": "execute_result"
    }
   ],
   "source": [
    "df.isnull().sum()"
   ]
  },
  {
   "cell_type": "code",
   "execution_count": 10,
   "metadata": {
    "colab": {
     "base_uri": "https://localhost:8080/"
    },
    "executionInfo": {
     "elapsed": 18,
     "status": "ok",
     "timestamp": 1751472393631,
     "user": {
      "displayName": "Isnan Nur Ahmad Wijayakusuma",
      "userId": "07940612313417886072"
     },
     "user_tz": -420
    },
    "id": "2RrBA92mpHBc",
    "outputId": "46fbc5cd-9336-483a-d333-2932a5e55f11"
   },
   "outputs": [
    {
     "data": {
      "text/plain": [
       "21"
      ]
     },
     "execution_count": 10,
     "metadata": {},
     "output_type": "execute_result"
    }
   ],
   "source": [
    "df.duplicated().sum()"
   ]
  },
  {
   "cell_type": "code",
   "execution_count": 11,
   "metadata": {
    "colab": {
     "base_uri": "https://localhost:8080/",
     "height": 313
    },
    "executionInfo": {
     "elapsed": 5,
     "status": "ok",
     "timestamp": 1751472393637,
     "user": {
      "displayName": "Isnan Nur Ahmad Wijayakusuma",
      "userId": "07940612313417886072"
     },
     "user_tz": -420
    },
    "id": "G7WXozOgpJp-",
    "outputId": "e420e21f-55a5-429e-e0ed-b3f35b7319d2"
   },
   "outputs": [
    {
     "data": {
      "text/html": [
       "<div>\n",
       "<style scoped>\n",
       "    .dataframe tbody tr th:only-of-type {\n",
       "        vertical-align: middle;\n",
       "    }\n",
       "\n",
       "    .dataframe tbody tr th {\n",
       "        vertical-align: top;\n",
       "    }\n",
       "\n",
       "    .dataframe thead th {\n",
       "        text-align: right;\n",
       "    }\n",
       "</style>\n",
       "<table border=\"1\" class=\"dataframe\">\n",
       "  <thead>\n",
       "    <tr style=\"text-align: right;\">\n",
       "      <th></th>\n",
       "      <th>TransactionID</th>\n",
       "      <th>AccountID</th>\n",
       "      <th>TransactionAmount</th>\n",
       "      <th>TransactionDate</th>\n",
       "      <th>TransactionType</th>\n",
       "      <th>Location</th>\n",
       "      <th>DeviceID</th>\n",
       "      <th>IP Address</th>\n",
       "      <th>MerchantID</th>\n",
       "      <th>Channel</th>\n",
       "      <th>CustomerAge</th>\n",
       "      <th>CustomerOccupation</th>\n",
       "      <th>TransactionDuration</th>\n",
       "      <th>LoginAttempts</th>\n",
       "      <th>AccountBalance</th>\n",
       "      <th>PreviousTransactionDate</th>\n",
       "    </tr>\n",
       "  </thead>\n",
       "  <tbody>\n",
       "    <tr>\n",
       "      <th>0</th>\n",
       "      <td>TX000001</td>\n",
       "      <td>AC00128</td>\n",
       "      <td>0.007207</td>\n",
       "      <td>2023-04-11 16:29:14</td>\n",
       "      <td>Debit</td>\n",
       "      <td>San Diego</td>\n",
       "      <td>D000380</td>\n",
       "      <td>162.198.218.92</td>\n",
       "      <td>M015</td>\n",
       "      <td>ATM</td>\n",
       "      <td>0.838710</td>\n",
       "      <td>Doctor</td>\n",
       "      <td>0.244828</td>\n",
       "      <td>0.0</td>\n",
       "      <td>0.336832</td>\n",
       "      <td>2024-11-04 08:08:08</td>\n",
       "    </tr>\n",
       "    <tr>\n",
       "      <th>1</th>\n",
       "      <td>TX000002</td>\n",
       "      <td>AC00455</td>\n",
       "      <td>0.195940</td>\n",
       "      <td>2023-06-27 16:44:19</td>\n",
       "      <td>Debit</td>\n",
       "      <td>Houston</td>\n",
       "      <td>D000051</td>\n",
       "      <td>13.149.61.4</td>\n",
       "      <td>M052</td>\n",
       "      <td>ATM</td>\n",
       "      <td>0.806452</td>\n",
       "      <td>Doctor</td>\n",
       "      <td>0.451724</td>\n",
       "      <td>0.0</td>\n",
       "      <td>0.918055</td>\n",
       "      <td>2024-11-04 08:09:35</td>\n",
       "    </tr>\n",
       "    <tr>\n",
       "      <th>2</th>\n",
       "      <td>TX000003</td>\n",
       "      <td>AC00019</td>\n",
       "      <td>0.065680</td>\n",
       "      <td>2023-07-10 18:16:08</td>\n",
       "      <td>Debit</td>\n",
       "      <td>Mesa</td>\n",
       "      <td>D000235</td>\n",
       "      <td>215.97.143.157</td>\n",
       "      <td>M009</td>\n",
       "      <td>Online</td>\n",
       "      <td>0.016129</td>\n",
       "      <td>Student</td>\n",
       "      <td>0.158621</td>\n",
       "      <td>0.0</td>\n",
       "      <td>0.068637</td>\n",
       "      <td>2024-11-04 08:07:04</td>\n",
       "    </tr>\n",
       "    <tr>\n",
       "      <th>3</th>\n",
       "      <td>TX000004</td>\n",
       "      <td>AC00070</td>\n",
       "      <td>0.096016</td>\n",
       "      <td>2023-05-05 16:32:11</td>\n",
       "      <td>Debit</td>\n",
       "      <td>Raleigh</td>\n",
       "      <td>D000187</td>\n",
       "      <td>200.13.225.150</td>\n",
       "      <td>M002</td>\n",
       "      <td>Online</td>\n",
       "      <td>0.129032</td>\n",
       "      <td>Student</td>\n",
       "      <td>0.051724</td>\n",
       "      <td>0.0</td>\n",
       "      <td>0.569198</td>\n",
       "      <td>2024-11-04 08:09:06</td>\n",
       "    </tr>\n",
       "    <tr>\n",
       "      <th>4</th>\n",
       "      <td>TX000005</td>\n",
       "      <td>AC00411</td>\n",
       "      <td>0.006874</td>\n",
       "      <td>2023-10-16 17:51:24</td>\n",
       "      <td>Credit</td>\n",
       "      <td>Atlanta</td>\n",
       "      <td>D000308</td>\n",
       "      <td>65.164.3.100</td>\n",
       "      <td>M091</td>\n",
       "      <td>Online</td>\n",
       "      <td>NaN</td>\n",
       "      <td>Student</td>\n",
       "      <td>0.648276</td>\n",
       "      <td>0.0</td>\n",
       "      <td>0.492591</td>\n",
       "      <td>2024-11-04 08:06:39</td>\n",
       "    </tr>\n",
       "  </tbody>\n",
       "</table>\n",
       "</div>"
      ],
      "text/plain": [
       "  TransactionID AccountID  TransactionAmount      TransactionDate  \\\n",
       "0      TX000001   AC00128           0.007207  2023-04-11 16:29:14   \n",
       "1      TX000002   AC00455           0.195940  2023-06-27 16:44:19   \n",
       "2      TX000003   AC00019           0.065680  2023-07-10 18:16:08   \n",
       "3      TX000004   AC00070           0.096016  2023-05-05 16:32:11   \n",
       "4      TX000005   AC00411           0.006874  2023-10-16 17:51:24   \n",
       "\n",
       "  TransactionType   Location DeviceID      IP Address MerchantID Channel  \\\n",
       "0           Debit  San Diego  D000380  162.198.218.92       M015     ATM   \n",
       "1           Debit    Houston  D000051     13.149.61.4       M052     ATM   \n",
       "2           Debit       Mesa  D000235  215.97.143.157       M009  Online   \n",
       "3           Debit    Raleigh  D000187  200.13.225.150       M002  Online   \n",
       "4          Credit    Atlanta  D000308    65.164.3.100       M091  Online   \n",
       "\n",
       "   CustomerAge CustomerOccupation  TransactionDuration  LoginAttempts  \\\n",
       "0     0.838710             Doctor             0.244828            0.0   \n",
       "1     0.806452             Doctor             0.451724            0.0   \n",
       "2     0.016129            Student             0.158621            0.0   \n",
       "3     0.129032            Student             0.051724            0.0   \n",
       "4          NaN            Student             0.648276            0.0   \n",
       "\n",
       "   AccountBalance PreviousTransactionDate  \n",
       "0        0.336832     2024-11-04 08:08:08  \n",
       "1        0.918055     2024-11-04 08:09:35  \n",
       "2        0.068637     2024-11-04 08:07:04  \n",
       "3        0.569198     2024-11-04 08:09:06  \n",
       "4        0.492591     2024-11-04 08:06:39  "
      ]
     },
     "execution_count": 11,
     "metadata": {},
     "output_type": "execute_result"
    }
   ],
   "source": [
    "# Mencari numerical fitur\n",
    "numerical_cols = df.select_dtypes(include=['int64', 'float64']).columns\n",
    "\n",
    "# Inisialisasi scaler\n",
    "scaler = MinMaxScaler()\n",
    "\n",
    "# Terapkan skala pada fitur numerik & mengcopy dataframe asli/utama\n",
    "scaled_df = df.copy()\n",
    "scaled_df[numerical_cols] = scaler.fit_transform(df[numerical_cols])\n",
    "\n",
    "# Menampilkan kepala DataFrame yang diskalakan\n",
    "scaled_df.head()"
   ]
  },
  {
   "cell_type": "code",
   "execution_count": 12,
   "metadata": {
    "colab": {
     "base_uri": "https://localhost:8080/",
     "height": 313
    },
    "executionInfo": {
     "elapsed": 42,
     "status": "ok",
     "timestamp": 1751472393680,
     "user": {
      "displayName": "Isnan Nur Ahmad Wijayakusuma",
      "userId": "07940612313417886072"
     },
     "user_tz": -420
    },
    "id": "TGLR0NTwsMOp",
    "outputId": "66fd6ba6-20d4-4e7f-ab25-5b2e2004337d"
   },
   "outputs": [
    {
     "data": {
      "text/html": [
       "<div>\n",
       "<style scoped>\n",
       "    .dataframe tbody tr th:only-of-type {\n",
       "        vertical-align: middle;\n",
       "    }\n",
       "\n",
       "    .dataframe tbody tr th {\n",
       "        vertical-align: top;\n",
       "    }\n",
       "\n",
       "    .dataframe thead th {\n",
       "        text-align: right;\n",
       "    }\n",
       "</style>\n",
       "<table border=\"1\" class=\"dataframe\">\n",
       "  <thead>\n",
       "    <tr style=\"text-align: right;\">\n",
       "      <th></th>\n",
       "      <th>TransactionAmount</th>\n",
       "      <th>TransactionDate</th>\n",
       "      <th>TransactionType</th>\n",
       "      <th>Location</th>\n",
       "      <th>Channel</th>\n",
       "      <th>CustomerAge</th>\n",
       "      <th>CustomerOccupation</th>\n",
       "      <th>TransactionDuration</th>\n",
       "      <th>LoginAttempts</th>\n",
       "      <th>AccountBalance</th>\n",
       "      <th>PreviousTransactionDate</th>\n",
       "    </tr>\n",
       "  </thead>\n",
       "  <tbody>\n",
       "    <tr>\n",
       "      <th>0</th>\n",
       "      <td>0.007207</td>\n",
       "      <td>2023-04-11 16:29:14</td>\n",
       "      <td>Debit</td>\n",
       "      <td>San Diego</td>\n",
       "      <td>ATM</td>\n",
       "      <td>0.838710</td>\n",
       "      <td>Doctor</td>\n",
       "      <td>0.244828</td>\n",
       "      <td>0.0</td>\n",
       "      <td>0.336832</td>\n",
       "      <td>2024-11-04 08:08:08</td>\n",
       "    </tr>\n",
       "    <tr>\n",
       "      <th>1</th>\n",
       "      <td>0.195940</td>\n",
       "      <td>2023-06-27 16:44:19</td>\n",
       "      <td>Debit</td>\n",
       "      <td>Houston</td>\n",
       "      <td>ATM</td>\n",
       "      <td>0.806452</td>\n",
       "      <td>Doctor</td>\n",
       "      <td>0.451724</td>\n",
       "      <td>0.0</td>\n",
       "      <td>0.918055</td>\n",
       "      <td>2024-11-04 08:09:35</td>\n",
       "    </tr>\n",
       "    <tr>\n",
       "      <th>2</th>\n",
       "      <td>0.065680</td>\n",
       "      <td>2023-07-10 18:16:08</td>\n",
       "      <td>Debit</td>\n",
       "      <td>Mesa</td>\n",
       "      <td>Online</td>\n",
       "      <td>0.016129</td>\n",
       "      <td>Student</td>\n",
       "      <td>0.158621</td>\n",
       "      <td>0.0</td>\n",
       "      <td>0.068637</td>\n",
       "      <td>2024-11-04 08:07:04</td>\n",
       "    </tr>\n",
       "    <tr>\n",
       "      <th>3</th>\n",
       "      <td>0.096016</td>\n",
       "      <td>2023-05-05 16:32:11</td>\n",
       "      <td>Debit</td>\n",
       "      <td>Raleigh</td>\n",
       "      <td>Online</td>\n",
       "      <td>0.129032</td>\n",
       "      <td>Student</td>\n",
       "      <td>0.051724</td>\n",
       "      <td>0.0</td>\n",
       "      <td>0.569198</td>\n",
       "      <td>2024-11-04 08:09:06</td>\n",
       "    </tr>\n",
       "    <tr>\n",
       "      <th>4</th>\n",
       "      <td>0.006874</td>\n",
       "      <td>2023-10-16 17:51:24</td>\n",
       "      <td>Credit</td>\n",
       "      <td>Atlanta</td>\n",
       "      <td>Online</td>\n",
       "      <td>NaN</td>\n",
       "      <td>Student</td>\n",
       "      <td>0.648276</td>\n",
       "      <td>0.0</td>\n",
       "      <td>0.492591</td>\n",
       "      <td>2024-11-04 08:06:39</td>\n",
       "    </tr>\n",
       "  </tbody>\n",
       "</table>\n",
       "</div>"
      ],
      "text/plain": [
       "   TransactionAmount      TransactionDate TransactionType   Location Channel  \\\n",
       "0           0.007207  2023-04-11 16:29:14           Debit  San Diego     ATM   \n",
       "1           0.195940  2023-06-27 16:44:19           Debit    Houston     ATM   \n",
       "2           0.065680  2023-07-10 18:16:08           Debit       Mesa  Online   \n",
       "3           0.096016  2023-05-05 16:32:11           Debit    Raleigh  Online   \n",
       "4           0.006874  2023-10-16 17:51:24          Credit    Atlanta  Online   \n",
       "\n",
       "   CustomerAge CustomerOccupation  TransactionDuration  LoginAttempts  \\\n",
       "0     0.838710             Doctor             0.244828            0.0   \n",
       "1     0.806452             Doctor             0.451724            0.0   \n",
       "2     0.016129            Student             0.158621            0.0   \n",
       "3     0.129032            Student             0.051724            0.0   \n",
       "4          NaN            Student             0.648276            0.0   \n",
       "\n",
       "   AccountBalance PreviousTransactionDate  \n",
       "0        0.336832     2024-11-04 08:08:08  \n",
       "1        0.918055     2024-11-04 08:09:35  \n",
       "2        0.068637     2024-11-04 08:07:04  \n",
       "3        0.569198     2024-11-04 08:09:06  \n",
       "4        0.492591     2024-11-04 08:06:39  "
      ]
     },
     "execution_count": 12,
     "metadata": {},
     "output_type": "execute_result"
    }
   ],
   "source": [
    "# Drop semua ID\n",
    "columns_id = ['TransactionID', 'AccountID', 'DeviceID', 'MerchantID', 'IP Address']\n",
    "scaled_df = scaled_df.drop(columns_id, axis=1)\n",
    "scaled_df.head()"
   ]
  },
  {
   "cell_type": "code",
   "execution_count": 13,
   "metadata": {
    "colab": {
     "base_uri": "https://localhost:8080/",
     "height": 226
    },
    "executionInfo": {
     "elapsed": 9,
     "status": "ok",
     "timestamp": 1751472393716,
     "user": {
      "displayName": "Isnan Nur Ahmad Wijayakusuma",
      "userId": "07940612313417886072"
     },
     "user_tz": -420
    },
    "id": "6eycdNMQqx4c",
    "outputId": "20e197f7-79e1-45fc-b215-8d3e365efbac"
   },
   "outputs": [
    {
     "data": {
      "text/html": [
       "<div>\n",
       "<style scoped>\n",
       "    .dataframe tbody tr th:only-of-type {\n",
       "        vertical-align: middle;\n",
       "    }\n",
       "\n",
       "    .dataframe tbody tr th {\n",
       "        vertical-align: top;\n",
       "    }\n",
       "\n",
       "    .dataframe thead th {\n",
       "        text-align: right;\n",
       "    }\n",
       "</style>\n",
       "<table border=\"1\" class=\"dataframe\">\n",
       "  <thead>\n",
       "    <tr style=\"text-align: right;\">\n",
       "      <th></th>\n",
       "      <th>TransactionAmount</th>\n",
       "      <th>TransactionDate</th>\n",
       "      <th>TransactionType</th>\n",
       "      <th>Location</th>\n",
       "      <th>Channel</th>\n",
       "      <th>CustomerAge</th>\n",
       "      <th>CustomerOccupation</th>\n",
       "      <th>TransactionDuration</th>\n",
       "      <th>LoginAttempts</th>\n",
       "      <th>AccountBalance</th>\n",
       "      <th>PreviousTransactionDate</th>\n",
       "    </tr>\n",
       "  </thead>\n",
       "  <tbody>\n",
       "    <tr>\n",
       "      <th>0</th>\n",
       "      <td>0.007207</td>\n",
       "      <td>680</td>\n",
       "      <td>1</td>\n",
       "      <td>36</td>\n",
       "      <td>0</td>\n",
       "      <td>0.838710</td>\n",
       "      <td>0</td>\n",
       "      <td>0.244828</td>\n",
       "      <td>0.0</td>\n",
       "      <td>0.336832</td>\n",
       "      <td>105</td>\n",
       "    </tr>\n",
       "    <tr>\n",
       "      <th>1</th>\n",
       "      <td>0.195940</td>\n",
       "      <td>1178</td>\n",
       "      <td>1</td>\n",
       "      <td>15</td>\n",
       "      <td>0</td>\n",
       "      <td>0.806452</td>\n",
       "      <td>0</td>\n",
       "      <td>0.451724</td>\n",
       "      <td>0.0</td>\n",
       "      <td>0.918055</td>\n",
       "      <td>192</td>\n",
       "    </tr>\n",
       "    <tr>\n",
       "      <th>2</th>\n",
       "      <td>0.065680</td>\n",
       "      <td>1262</td>\n",
       "      <td>1</td>\n",
       "      <td>23</td>\n",
       "      <td>2</td>\n",
       "      <td>0.016129</td>\n",
       "      <td>3</td>\n",
       "      <td>0.158621</td>\n",
       "      <td>0.0</td>\n",
       "      <td>0.068637</td>\n",
       "      <td>41</td>\n",
       "    </tr>\n",
       "    <tr>\n",
       "      <th>3</th>\n",
       "      <td>0.096016</td>\n",
       "      <td>818</td>\n",
       "      <td>1</td>\n",
       "      <td>33</td>\n",
       "      <td>2</td>\n",
       "      <td>0.129032</td>\n",
       "      <td>3</td>\n",
       "      <td>0.051724</td>\n",
       "      <td>0.0</td>\n",
       "      <td>0.569198</td>\n",
       "      <td>163</td>\n",
       "    </tr>\n",
       "    <tr>\n",
       "      <th>4</th>\n",
       "      <td>0.006874</td>\n",
       "      <td>1939</td>\n",
       "      <td>0</td>\n",
       "      <td>1</td>\n",
       "      <td>2</td>\n",
       "      <td>NaN</td>\n",
       "      <td>3</td>\n",
       "      <td>0.648276</td>\n",
       "      <td>0.0</td>\n",
       "      <td>0.492591</td>\n",
       "      <td>16</td>\n",
       "    </tr>\n",
       "  </tbody>\n",
       "</table>\n",
       "</div>"
      ],
      "text/plain": [
       "   TransactionAmount  TransactionDate  TransactionType  Location  Channel  \\\n",
       "0           0.007207              680                1        36        0   \n",
       "1           0.195940             1178                1        15        0   \n",
       "2           0.065680             1262                1        23        2   \n",
       "3           0.096016              818                1        33        2   \n",
       "4           0.006874             1939                0         1        2   \n",
       "\n",
       "   CustomerAge  CustomerOccupation  TransactionDuration  LoginAttempts  \\\n",
       "0     0.838710                   0             0.244828            0.0   \n",
       "1     0.806452                   0             0.451724            0.0   \n",
       "2     0.016129                   3             0.158621            0.0   \n",
       "3     0.129032                   3             0.051724            0.0   \n",
       "4          NaN                   3             0.648276            0.0   \n",
       "\n",
       "   AccountBalance  PreviousTransactionDate  \n",
       "0        0.336832                      105  \n",
       "1        0.918055                      192  \n",
       "2        0.068637                       41  \n",
       "3        0.569198                      163  \n",
       "4        0.492591                       16  "
      ]
     },
     "execution_count": 13,
     "metadata": {},
     "output_type": "execute_result"
    }
   ],
   "source": [
    "# Encoding\n",
    "label_encoder = LabelEncoder()\n",
    "categorical_cols = scaled_df.select_dtypes(include=['object']).columns\n",
    "\n",
    "for col in categorical_cols:\n",
    "    scaled_df[col] = label_encoder.fit_transform(scaled_df[col])\n",
    "\n",
    "scaled_df.head()"
   ]
  },
  {
   "cell_type": "code",
   "execution_count": 14,
   "metadata": {
    "colab": {
     "base_uri": "https://localhost:8080/"
    },
    "executionInfo": {
     "elapsed": 9,
     "status": "ok",
     "timestamp": 1751472393727,
     "user": {
      "displayName": "Isnan Nur Ahmad Wijayakusuma",
      "userId": "07940612313417886072"
     },
     "user_tz": -420
    },
    "id": "u1EmlGmZCCAP",
    "outputId": "7e940610-0fcb-44ca-ac60-748817884f1c"
   },
   "outputs": [
    {
     "data": {
      "text/plain": [
       "['TransactionAmount',\n",
       " 'TransactionDate',\n",
       " 'TransactionType',\n",
       " 'Location',\n",
       " 'Channel',\n",
       " 'CustomerAge',\n",
       " 'CustomerOccupation',\n",
       " 'TransactionDuration',\n",
       " 'LoginAttempts',\n",
       " 'AccountBalance',\n",
       " 'PreviousTransactionDate']"
      ]
     },
     "execution_count": 14,
     "metadata": {},
     "output_type": "execute_result"
    }
   ],
   "source": [
    "# Last check untuk kolom\n",
    "scaled_df.columns.tolist()"
   ]
  },
  {
   "cell_type": "markdown",
   "metadata": {
    "id": "qnbH2l_wv9l8"
   },
   "source": [
    "(Opsional) Pembersihan dan Pra Pemrosesan Data [Skilled]\n",
    "\n",
    "**Biarkan kosong jika tidak menerapkan kriteria skilled**"
   ]
  },
  {
   "cell_type": "code",
   "execution_count": 15,
   "metadata": {
    "colab": {
     "base_uri": "https://localhost:8080/",
     "height": 429
    },
    "executionInfo": {
     "elapsed": 47,
     "status": "ok",
     "timestamp": 1751472393777,
     "user": {
      "displayName": "Isnan Nur Ahmad Wijayakusuma",
      "userId": "07940612313417886072"
     },
     "user_tz": -420
    },
    "id": "-UoGhAUrsxIV",
    "outputId": "1467039c-d78d-4e17-c4e4-ff3da496e451"
   },
   "outputs": [
    {
     "data": {
      "text/plain": [
       "TransactionAmount          0\n",
       "TransactionDate            0\n",
       "TransactionType            0\n",
       "Location                   0\n",
       "Channel                    0\n",
       "CustomerAge                0\n",
       "CustomerOccupation         0\n",
       "TransactionDuration        0\n",
       "LoginAttempts              0\n",
       "AccountBalance             0\n",
       "PreviousTransactionDate    0\n",
       "dtype: int64"
      ]
     },
     "execution_count": 15,
     "metadata": {},
     "output_type": "execute_result"
    }
   ],
   "source": [
    "scaled_df = scaled_df.dropna()\n",
    "scaled_df.isnull().sum()"
   ]
  },
  {
   "cell_type": "code",
   "execution_count": 16,
   "metadata": {
    "colab": {
     "base_uri": "https://localhost:8080/"
    },
    "executionInfo": {
     "elapsed": 12,
     "status": "ok",
     "timestamp": 1751472393778,
     "user": {
      "displayName": "Isnan Nur Ahmad Wijayakusuma",
      "userId": "07940612313417886072"
     },
     "user_tz": -420
    },
    "id": "WGt2XApTttSL",
    "outputId": "eaf341c9-ddfa-49f2-bb60-959dfe1d6b50"
   },
   "outputs": [
    {
     "data": {
      "text/plain": [
       "0"
      ]
     },
     "execution_count": 16,
     "metadata": {},
     "output_type": "execute_result"
    }
   ],
   "source": [
    "scaled_df = scaled_df.drop_duplicates()\n",
    "scaled_df.duplicated().sum()"
   ]
  },
  {
   "cell_type": "markdown",
   "metadata": {
    "id": "H5RrswThwQrC"
   },
   "source": [
    "(Opsional) Pembersihan dan Pra Pemrosesan Data [Advanced]\n",
    "\n",
    "**Biarkan kosong jika tidak menerapkan kriteria advanced**"
   ]
  },
  {
   "cell_type": "code",
   "execution_count": 17,
   "metadata": {
    "executionInfo": {
     "elapsed": 5,
     "status": "ok",
     "timestamp": 1751472393778,
     "user": {
      "displayName": "Isnan Nur Ahmad Wijayakusuma",
      "userId": "07940612313417886072"
     },
     "user_tz": -420
    },
    "id": "mvhfyYpat9Xs"
   },
   "outputs": [],
   "source": [
    "# Melakukan Handling Outlier Data berdasarkan jumlah outlier, apakah menggunakan metode drop atau mengisi nilai tersebut."
   ]
  },
  {
   "cell_type": "code",
   "execution_count": 18,
   "metadata": {
    "executionInfo": {
     "elapsed": 4,
     "status": "ok",
     "timestamp": 1751472393779,
     "user": {
      "displayName": "Isnan Nur Ahmad Wijayakusuma",
      "userId": "07940612313417886072"
     },
     "user_tz": -420
    },
    "id": "QjcR-3G0u-GL"
   },
   "outputs": [],
   "source": [
    "# Melakukan binning data berdasarkan kondisi rentang nilai pada fitur numerik,\n",
    "# lakukan pada satu sampai dua fitur numerik.\n",
    "# Silahkan lakukan encode hasil binning tersebut menggunakan LabelEncoder.\n",
    "# Pastikan kamu mengerjakan tahapan ini pada satu cell."
   ]
  },
  {
   "cell_type": "markdown",
   "metadata": {
    "id": "Fkd_QHXWMBDr"
   },
   "source": [
    "# **4. Membangun Model Clustering**\n",
    "Pada tahap ini, Anda membangun model clustering dengan memilih algoritma yang sesuai untuk mengelompokkan data berdasarkan kesamaan.\n",
    "1. Pastikan Anda menggunakan dataframe yang sudah melalui processing sesuai dengan levelnya (Basic, Skilled, Advanced)\n",
    "2. Melakukan visualisasi Elbow Method untuk menentukan jumlah cluster terbaik menggunakan `KElbowVisualizer()`.\n",
    "3. Menggunakan algoritma K-Means Clustering dengan `sklearn.cluster.KMeans()`.\n",
    "4. Jalankan cell code `joblib.dump(model_kmeans, \"model_clustering.h5\")` untuk menyimpan model yang sudah dibuat."
   ]
  },
  {
   "cell_type": "code",
   "execution_count": 19,
   "metadata": {
    "colab": {
     "base_uri": "https://localhost:8080/",
     "height": 320
    },
    "executionInfo": {
     "elapsed": 27,
     "status": "ok",
     "timestamp": 1751472393803,
     "user": {
      "displayName": "Isnan Nur Ahmad Wijayakusuma",
      "userId": "07940612313417886072"
     },
     "user_tz": -420
    },
    "id": "hYHmRnb42A1P",
    "outputId": "22eebf77-1ef5-4161-cb18-7413e63e5ef1"
   },
   "outputs": [
    {
     "data": {
      "text/html": [
       "<div>\n",
       "<style scoped>\n",
       "    .dataframe tbody tr th:only-of-type {\n",
       "        vertical-align: middle;\n",
       "    }\n",
       "\n",
       "    .dataframe tbody tr th {\n",
       "        vertical-align: top;\n",
       "    }\n",
       "\n",
       "    .dataframe thead th {\n",
       "        text-align: right;\n",
       "    }\n",
       "</style>\n",
       "<table border=\"1\" class=\"dataframe\">\n",
       "  <thead>\n",
       "    <tr style=\"text-align: right;\">\n",
       "      <th></th>\n",
       "      <th>TransactionAmount</th>\n",
       "      <th>TransactionDate</th>\n",
       "      <th>TransactionType</th>\n",
       "      <th>Location</th>\n",
       "      <th>Channel</th>\n",
       "      <th>CustomerAge</th>\n",
       "      <th>CustomerOccupation</th>\n",
       "      <th>TransactionDuration</th>\n",
       "      <th>LoginAttempts</th>\n",
       "      <th>AccountBalance</th>\n",
       "      <th>PreviousTransactionDate</th>\n",
       "    </tr>\n",
       "  </thead>\n",
       "  <tbody>\n",
       "    <tr>\n",
       "      <th>count</th>\n",
       "      <td>2398.000000</td>\n",
       "      <td>2398.000000</td>\n",
       "      <td>2398.000000</td>\n",
       "      <td>2398.000000</td>\n",
       "      <td>2398.000000</td>\n",
       "      <td>2398.000000</td>\n",
       "      <td>2398.000000</td>\n",
       "      <td>2398.000000</td>\n",
       "      <td>2398.000000</td>\n",
       "      <td>2398.000000</td>\n",
       "      <td>2398.000000</td>\n",
       "    </tr>\n",
       "    <tr>\n",
       "      <th>mean</th>\n",
       "      <td>0.154922</td>\n",
       "      <td>1256.404921</td>\n",
       "      <td>0.788574</td>\n",
       "      <td>21.383653</td>\n",
       "      <td>1.013344</td>\n",
       "      <td>0.429323</td>\n",
       "      <td>1.532110</td>\n",
       "      <td>0.377521</td>\n",
       "      <td>0.030025</td>\n",
       "      <td>0.335330</td>\n",
       "      <td>180.984987</td>\n",
       "    </tr>\n",
       "    <tr>\n",
       "      <th>std</th>\n",
       "      <td>0.151893</td>\n",
       "      <td>726.716182</td>\n",
       "      <td>0.437979</td>\n",
       "      <td>12.417622</td>\n",
       "      <td>0.831075</td>\n",
       "      <td>0.287681</td>\n",
       "      <td>1.153802</td>\n",
       "      <td>0.242365</td>\n",
       "      <td>0.147059</td>\n",
       "      <td>0.262236</td>\n",
       "      <td>103.757245</td>\n",
       "    </tr>\n",
       "    <tr>\n",
       "      <th>min</th>\n",
       "      <td>0.000000</td>\n",
       "      <td>0.000000</td>\n",
       "      <td>0.000000</td>\n",
       "      <td>0.000000</td>\n",
       "      <td>0.000000</td>\n",
       "      <td>0.000000</td>\n",
       "      <td>0.000000</td>\n",
       "      <td>0.000000</td>\n",
       "      <td>0.000000</td>\n",
       "      <td>0.000000</td>\n",
       "      <td>0.000000</td>\n",
       "    </tr>\n",
       "    <tr>\n",
       "      <th>25%</th>\n",
       "      <td>0.042624</td>\n",
       "      <td>626.250000</td>\n",
       "      <td>1.000000</td>\n",
       "      <td>11.000000</td>\n",
       "      <td>0.000000</td>\n",
       "      <td>0.145161</td>\n",
       "      <td>0.000000</td>\n",
       "      <td>0.182759</td>\n",
       "      <td>0.000000</td>\n",
       "      <td>0.093288</td>\n",
       "      <td>92.000000</td>\n",
       "    </tr>\n",
       "    <tr>\n",
       "      <th>50%</th>\n",
       "      <td>0.110829</td>\n",
       "      <td>1254.500000</td>\n",
       "      <td>1.000000</td>\n",
       "      <td>21.000000</td>\n",
       "      <td>1.000000</td>\n",
       "      <td>0.435484</td>\n",
       "      <td>2.000000</td>\n",
       "      <td>0.351724</td>\n",
       "      <td>0.000000</td>\n",
       "      <td>0.308010</td>\n",
       "      <td>181.000000</td>\n",
       "    </tr>\n",
       "    <tr>\n",
       "      <th>75%</th>\n",
       "      <td>0.214235</td>\n",
       "      <td>1884.750000</td>\n",
       "      <td>1.000000</td>\n",
       "      <td>32.000000</td>\n",
       "      <td>2.000000</td>\n",
       "      <td>0.661290</td>\n",
       "      <td>3.000000</td>\n",
       "      <td>0.524138</td>\n",
       "      <td>0.000000</td>\n",
       "      <td>0.507822</td>\n",
       "      <td>271.750000</td>\n",
       "    </tr>\n",
       "    <tr>\n",
       "      <th>max</th>\n",
       "      <td>1.000000</td>\n",
       "      <td>2485.000000</td>\n",
       "      <td>2.000000</td>\n",
       "      <td>43.000000</td>\n",
       "      <td>3.000000</td>\n",
       "      <td>1.000000</td>\n",
       "      <td>4.000000</td>\n",
       "      <td>1.000000</td>\n",
       "      <td>1.000000</td>\n",
       "      <td>1.000000</td>\n",
       "      <td>360.000000</td>\n",
       "    </tr>\n",
       "  </tbody>\n",
       "</table>\n",
       "</div>"
      ],
      "text/plain": [
       "       TransactionAmount  TransactionDate  TransactionType     Location  \\\n",
       "count        2398.000000      2398.000000      2398.000000  2398.000000   \n",
       "mean            0.154922      1256.404921         0.788574    21.383653   \n",
       "std             0.151893       726.716182         0.437979    12.417622   \n",
       "min             0.000000         0.000000         0.000000     0.000000   \n",
       "25%             0.042624       626.250000         1.000000    11.000000   \n",
       "50%             0.110829      1254.500000         1.000000    21.000000   \n",
       "75%             0.214235      1884.750000         1.000000    32.000000   \n",
       "max             1.000000      2485.000000         2.000000    43.000000   \n",
       "\n",
       "           Channel  CustomerAge  CustomerOccupation  TransactionDuration  \\\n",
       "count  2398.000000  2398.000000         2398.000000          2398.000000   \n",
       "mean      1.013344     0.429323            1.532110             0.377521   \n",
       "std       0.831075     0.287681            1.153802             0.242365   \n",
       "min       0.000000     0.000000            0.000000             0.000000   \n",
       "25%       0.000000     0.145161            0.000000             0.182759   \n",
       "50%       1.000000     0.435484            2.000000             0.351724   \n",
       "75%       2.000000     0.661290            3.000000             0.524138   \n",
       "max       3.000000     1.000000            4.000000             1.000000   \n",
       "\n",
       "       LoginAttempts  AccountBalance  PreviousTransactionDate  \n",
       "count    2398.000000     2398.000000              2398.000000  \n",
       "mean        0.030025        0.335330               180.984987  \n",
       "std         0.147059        0.262236               103.757245  \n",
       "min         0.000000        0.000000                 0.000000  \n",
       "25%         0.000000        0.093288                92.000000  \n",
       "50%         0.000000        0.308010               181.000000  \n",
       "75%         0.000000        0.507822               271.750000  \n",
       "max         1.000000        1.000000               360.000000  "
      ]
     },
     "execution_count": 19,
     "metadata": {},
     "output_type": "execute_result"
    }
   ],
   "source": [
    "scaled_df.describe()"
   ]
  },
  {
   "cell_type": "code",
   "execution_count": 20,
   "metadata": {
    "colab": {
     "base_uri": "https://localhost:8080/",
     "height": 475
    },
    "executionInfo": {
     "elapsed": 968,
     "status": "ok",
     "timestamp": 1751472394770,
     "user": {
      "displayName": "Isnan Nur Ahmad Wijayakusuma",
      "userId": "07940612313417886072"
     },
     "user_tz": -420
    },
    "id": "hgYvwWOzM93L",
    "outputId": "a16bae4b-74b8-4442-cd49-ceb7ec686747"
   },
   "outputs": [
    {
     "name": "stderr",
     "output_type": "stream",
     "text": [
      "c:\\Users\\ACER\\AppData\\Local\\Programs\\Python\\Python39\\lib\\site-packages\\sklearn\\cluster\\_kmeans.py:870: FutureWarning: The default value of `n_init` will change from 10 to 'auto' in 1.4. Set the value of `n_init` explicitly to suppress the warning\n",
      "  warnings.warn(\n",
      "c:\\Users\\ACER\\AppData\\Local\\Programs\\Python\\Python39\\lib\\site-packages\\sklearn\\cluster\\_kmeans.py:870: FutureWarning: The default value of `n_init` will change from 10 to 'auto' in 1.4. Set the value of `n_init` explicitly to suppress the warning\n",
      "  warnings.warn(\n",
      "c:\\Users\\ACER\\AppData\\Local\\Programs\\Python\\Python39\\lib\\site-packages\\sklearn\\cluster\\_kmeans.py:870: FutureWarning: The default value of `n_init` will change from 10 to 'auto' in 1.4. Set the value of `n_init` explicitly to suppress the warning\n",
      "  warnings.warn(\n",
      "c:\\Users\\ACER\\AppData\\Local\\Programs\\Python\\Python39\\lib\\site-packages\\sklearn\\cluster\\_kmeans.py:870: FutureWarning: The default value of `n_init` will change from 10 to 'auto' in 1.4. Set the value of `n_init` explicitly to suppress the warning\n",
      "  warnings.warn(\n",
      "c:\\Users\\ACER\\AppData\\Local\\Programs\\Python\\Python39\\lib\\site-packages\\sklearn\\cluster\\_kmeans.py:870: FutureWarning: The default value of `n_init` will change from 10 to 'auto' in 1.4. Set the value of `n_init` explicitly to suppress the warning\n",
      "  warnings.warn(\n",
      "c:\\Users\\ACER\\AppData\\Local\\Programs\\Python\\Python39\\lib\\site-packages\\sklearn\\cluster\\_kmeans.py:870: FutureWarning: The default value of `n_init` will change from 10 to 'auto' in 1.4. Set the value of `n_init` explicitly to suppress the warning\n",
      "  warnings.warn(\n",
      "c:\\Users\\ACER\\AppData\\Local\\Programs\\Python\\Python39\\lib\\site-packages\\sklearn\\cluster\\_kmeans.py:870: FutureWarning: The default value of `n_init` will change from 10 to 'auto' in 1.4. Set the value of `n_init` explicitly to suppress the warning\n",
      "  warnings.warn(\n",
      "c:\\Users\\ACER\\AppData\\Local\\Programs\\Python\\Python39\\lib\\site-packages\\sklearn\\cluster\\_kmeans.py:870: FutureWarning: The default value of `n_init` will change from 10 to 'auto' in 1.4. Set the value of `n_init` explicitly to suppress the warning\n",
      "  warnings.warn(\n",
      "c:\\Users\\ACER\\AppData\\Local\\Programs\\Python\\Python39\\lib\\site-packages\\sklearn\\cluster\\_kmeans.py:870: FutureWarning: The default value of `n_init` will change from 10 to 'auto' in 1.4. Set the value of `n_init` explicitly to suppress the warning\n",
      "  warnings.warn(\n"
     ]
    },
    {
     "data": {
      "image/png": "[encoded data removed]",
      "text/plain": [
       "<Figure size 800x550 with 2 Axes>"
      ]
     },
     "metadata": {},
     "output_type": "display_data"
    },
    {
     "data": {
      "text/plain": [
       "<AxesSubplot: title={'center': 'Distortion Score Elbow for KMeans Clustering'}, xlabel='k', ylabel='distortion score'>"
      ]
     },
     "execution_count": 20,
     "metadata": {},
     "output_type": "execute_result"
    }
   ],
   "source": [
    "# Pake Elbow Method\n",
    "model = KMeans()\n",
    "visualizer = KElbowVisualizer(model, k=(1,10))\n",
    "visualizer.fit(scaled_df)\n",
    "visualizer.show()"
   ]
  },
  {
   "cell_type": "code",
   "execution_count": 21,
   "metadata": {
    "colab": {
     "base_uri": "https://localhost:8080/",
     "height": 226
    },
    "executionInfo": {
     "elapsed": 11,
     "status": "ok",
     "timestamp": 1751472394777,
     "user": {
      "displayName": "Isnan Nur Ahmad Wijayakusuma",
      "userId": "07940612313417886072"
     },
     "user_tz": -420
    },
    "id": "HvngRg-r4EcL",
    "outputId": "0585a0d1-f086-416f-e677-e7cff7064bd4"
   },
   "outputs": [
    {
     "name": "stderr",
     "output_type": "stream",
     "text": [
      "c:\\Users\\ACER\\AppData\\Local\\Programs\\Python\\Python39\\lib\\site-packages\\sklearn\\cluster\\_kmeans.py:870: FutureWarning: The default value of `n_init` will change from 10 to 'auto' in 1.4. Set the value of `n_init` explicitly to suppress the warning\n",
      "  warnings.warn(\n"
     ]
    },
    {
     "data": {
      "text/html": [
       "<div>\n",
       "<style scoped>\n",
       "    .dataframe tbody tr th:only-of-type {\n",
       "        vertical-align: middle;\n",
       "    }\n",
       "\n",
       "    .dataframe tbody tr th {\n",
       "        vertical-align: top;\n",
       "    }\n",
       "\n",
       "    .dataframe thead th {\n",
       "        text-align: right;\n",
       "    }\n",
       "</style>\n",
       "<table border=\"1\" class=\"dataframe\">\n",
       "  <thead>\n",
       "    <tr style=\"text-align: right;\">\n",
       "      <th></th>\n",
       "      <th>TransactionAmount</th>\n",
       "      <th>TransactionDate</th>\n",
       "      <th>TransactionType</th>\n",
       "      <th>Location</th>\n",
       "      <th>Channel</th>\n",
       "      <th>CustomerAge</th>\n",
       "      <th>CustomerOccupation</th>\n",
       "      <th>TransactionDuration</th>\n",
       "      <th>LoginAttempts</th>\n",
       "      <th>AccountBalance</th>\n",
       "      <th>PreviousTransactionDate</th>\n",
       "      <th>Target</th>\n",
       "    </tr>\n",
       "  </thead>\n",
       "  <tbody>\n",
       "    <tr>\n",
       "      <th>0</th>\n",
       "      <td>0.007207</td>\n",
       "      <td>680</td>\n",
       "      <td>1</td>\n",
       "      <td>36</td>\n",
       "      <td>0</td>\n",
       "      <td>0.838710</td>\n",
       "      <td>0</td>\n",
       "      <td>0.244828</td>\n",
       "      <td>0.0</td>\n",
       "      <td>0.336832</td>\n",
       "      <td>105</td>\n",
       "      <td>0</td>\n",
       "    </tr>\n",
       "    <tr>\n",
       "      <th>1</th>\n",
       "      <td>0.195940</td>\n",
       "      <td>1178</td>\n",
       "      <td>1</td>\n",
       "      <td>15</td>\n",
       "      <td>0</td>\n",
       "      <td>0.806452</td>\n",
       "      <td>0</td>\n",
       "      <td>0.451724</td>\n",
       "      <td>0.0</td>\n",
       "      <td>0.918055</td>\n",
       "      <td>192</td>\n",
       "      <td>2</td>\n",
       "    </tr>\n",
       "    <tr>\n",
       "      <th>2</th>\n",
       "      <td>0.065680</td>\n",
       "      <td>1262</td>\n",
       "      <td>1</td>\n",
       "      <td>23</td>\n",
       "      <td>2</td>\n",
       "      <td>0.016129</td>\n",
       "      <td>3</td>\n",
       "      <td>0.158621</td>\n",
       "      <td>0.0</td>\n",
       "      <td>0.068637</td>\n",
       "      <td>41</td>\n",
       "      <td>2</td>\n",
       "    </tr>\n",
       "    <tr>\n",
       "      <th>3</th>\n",
       "      <td>0.096016</td>\n",
       "      <td>818</td>\n",
       "      <td>1</td>\n",
       "      <td>33</td>\n",
       "      <td>2</td>\n",
       "      <td>0.129032</td>\n",
       "      <td>3</td>\n",
       "      <td>0.051724</td>\n",
       "      <td>0.0</td>\n",
       "      <td>0.569198</td>\n",
       "      <td>163</td>\n",
       "      <td>0</td>\n",
       "    </tr>\n",
       "    <tr>\n",
       "      <th>5</th>\n",
       "      <td>0.047888</td>\n",
       "      <td>635</td>\n",
       "      <td>1</td>\n",
       "      <td>28</td>\n",
       "      <td>0</td>\n",
       "      <td>0.000000</td>\n",
       "      <td>3</td>\n",
       "      <td>0.558621</td>\n",
       "      <td>0.0</td>\n",
       "      <td>0.045738</td>\n",
       "      <td>13</td>\n",
       "      <td>0</td>\n",
       "    </tr>\n",
       "  </tbody>\n",
       "</table>\n",
       "</div>"
      ],
      "text/plain": [
       "   TransactionAmount  TransactionDate  TransactionType  Location  Channel  \\\n",
       "0           0.007207              680                1        36        0   \n",
       "1           0.195940             1178                1        15        0   \n",
       "2           0.065680             1262                1        23        2   \n",
       "3           0.096016              818                1        33        2   \n",
       "5           0.047888              635                1        28        0   \n",
       "\n",
       "   CustomerAge  CustomerOccupation  TransactionDuration  LoginAttempts  \\\n",
       "0     0.838710                   0             0.244828            0.0   \n",
       "1     0.806452                   0             0.451724            0.0   \n",
       "2     0.016129                   3             0.158621            0.0   \n",
       "3     0.129032                   3             0.051724            0.0   \n",
       "5     0.000000                   3             0.558621            0.0   \n",
       "\n",
       "   AccountBalance  PreviousTransactionDate  Target  \n",
       "0        0.336832                      105       0  \n",
       "1        0.918055                      192       2  \n",
       "2        0.068637                       41       2  \n",
       "3        0.569198                      163       0  \n",
       "5        0.045738                       13       0  "
      ]
     },
     "execution_count": 21,
     "metadata": {},
     "output_type": "execute_result"
    }
   ],
   "source": [
    "# Pake algoritma K-Means Clustering\n",
    "kmeans_model = KMeans(n_clusters=3, random_state=42)\n",
    "kmeans_model.fit(scaled_df)\n",
    "scaled_df[\"Target\"] = kmeans_model.labels_\n",
    "scaled_df.head()"
   ]
  },
  {
   "cell_type": "markdown",
   "metadata": {
    "id": "6aVHlHyU1Dcx"
   },
   "source": [
    "Jalankan cell code ini untuk menyimpan model kamu."
   ]
  },
  {
   "cell_type": "code",
   "execution_count": 22,
   "metadata": {
    "colab": {
     "base_uri": "https://localhost:8080/"
    },
    "executionInfo": {
     "elapsed": 15,
     "status": "ok",
     "timestamp": 1751472394790,
     "user": {
      "displayName": "Isnan Nur Ahmad Wijayakusuma",
      "userId": "07940612313417886072"
     },
     "user_tz": -420
    },
    "id": "D7AvYmQnY_fI",
    "outputId": "91bfda3a-8528-4b1b-f18e-460915caadef"
   },
   "outputs": [
    {
     "data": {
      "text/plain": [
       "['model_clustering.h5']"
      ]
     },
     "execution_count": 22,
     "metadata": {},
     "output_type": "execute_result"
    }
   ],
   "source": [
    "# Menyimpan model clustering\n",
    "joblib.dump(kmeans_model, \"model_clustering.h5\")"
   ]
  },
  {
   "cell_type": "markdown",
   "metadata": {
    "id": "YDOD9eVMx3mC"
   },
   "source": [
    "(Opsional) Membangun Model Clustering [Skilled]\n",
    "\n",
    "**Biarkan kosong jika tidak menerapkan kriteria skilled**"
   ]
  },
  {
   "cell_type": "code",
   "execution_count": 23,
   "metadata": {
    "colab": {
     "base_uri": "https://localhost:8080/"
    },
    "executionInfo": {
     "elapsed": 11,
     "status": "ok",
     "timestamp": 1751472394801,
     "user": {
      "displayName": "Isnan Nur Ahmad Wijayakusuma",
      "userId": "07940612313417886072"
     },
     "user_tz": -420
    },
    "id": "SELNsH5O4Oyn",
    "outputId": "e494cff9-3bd0-47d7-ef12-0aee1219f253"
   },
   "outputs": [
    {
     "name": "stdout",
     "output_type": "stream",
     "text": [
      "Silhouette Score: 0.5403854011651291\n"
     ]
    }
   ],
   "source": [
    "# Membuat visualisasi hasil clustering\n",
    "silhouette_avg = silhouette_score(scaled_df.drop('Target', axis=1), scaled_df['Target'])\n",
    "print(f\"Silhouette Score: {silhouette_avg}\")"
   ]
  },
  {
   "cell_type": "code",
   "execution_count": 24,
   "metadata": {
    "executionInfo": {
     "elapsed": 3,
     "status": "ok",
     "timestamp": 1751472394819,
     "user": {
      "displayName": "Isnan Nur Ahmad Wijayakusuma",
      "userId": "07940612313417886072"
     },
     "user_tz": -420
    },
    "id": "K4EbkaXg4QAN"
   },
   "outputs": [],
   "source": [
    "# Membuat visualisasi hasil clustering"
   ]
  },
  {
   "cell_type": "markdown",
   "metadata": {
    "id": "uloMRbnsyAbB"
   },
   "source": [
    "(Opsional) Membangun Model Clustering [Advanced]\n",
    "\n",
    "**Biarkan kosong jika tidak menerapkan kriteria advanced**"
   ]
  },
  {
   "cell_type": "code",
   "execution_count": 25,
   "metadata": {
    "executionInfo": {
     "elapsed": 18,
     "status": "ok",
     "timestamp": 1751472394840,
     "user": {
      "displayName": "Isnan Nur Ahmad Wijayakusuma",
      "userId": "07940612313417886072"
     },
     "user_tz": -420
    },
    "id": "SgfOarXX4SD2"
   },
   "outputs": [],
   "source": [
    "# Membangun model menggunakan PCA.\n",
    "# ___ =PCA(n_components=<x>)\n",
    "# ___ = ____.fit_transform(___)\n",
    "# Menyimpan data PCA sebagai Dataframe dengan nama PCA_<numbers>\n",
    "# <data_final> = pd.DataFrame(___, columns=['PCA1', 'PCA2', <sesuaikan dengan jumlah n>])\n",
    "# Pastikan kamu membangun model Kmeans baru dengan data yang sudah dimodifikasi melalui PCA.\n",
    "# ___ = KMeans(n_clusters=<x>)\n",
    "# ___.fit(<data_final>)"
   ]
  },
  {
   "cell_type": "code",
   "execution_count": 26,
   "metadata": {
    "executionInfo": {
     "elapsed": 1,
     "status": "ok",
     "timestamp": 1751472394846,
     "user": {
      "displayName": "Isnan Nur Ahmad Wijayakusuma",
      "userId": "07940612313417886072"
     },
     "user_tz": -420
    },
    "id": "uKvJy9Ky4VB3"
   },
   "outputs": [],
   "source": [
    "# Simpan model PCA sebagai perbandingan dengan menjalankan cell code ini joblib.dump(model,\"PCA_model_clustering.h5\")\n",
    "# Pastikan yang disimpan model yang sudah melalui .fit berdasarkan dataset yang sudah dilakukan PCA\n",
    "# joblib.dump(___, \"PCA_model_clustering.h5\")"
   ]
  },
  {
   "cell_type": "markdown",
   "metadata": {
    "id": "anlTI9Trb7F6"
   },
   "source": [
    "# **5. Interpretasi Cluster**"
   ]
  },
  {
   "cell_type": "markdown",
   "metadata": {
    "id": "JfgVMEBDS3KG"
   },
   "source": [
    "## **a. Interpretasi Hasil Clustering**\n",
    "1. **Contoh Interpretasi:**\n",
    "- **Cluster 1: (Nasabah Bertransaksi dan Pendapatan Besar)**:\n",
    "  - **Rata-rata (mean) Annual Income:** 0.953 (48,260)\n",
    "  - **Rata-rata (mean) Spending Score:** 0.8 (56.48)\n",
    "  - **Analisis:** Cluster ini mencakup pelanggan dengan pendapatan tahunan tinggi dan tingkat pengeluaran yang cukup tinggi. Pelanggan dalam cluster ini cenderung memiliki daya beli yang tinggi dan mereka lebih cenderung untuk membelanjakan sebagian besar pendapatan mereka. Sehingga rekomendasi pada kelompok nasabah ini adalah dengan menawarkan produk-produk investasi atau perbankan yang berkualitas tinggi.\n"
   ]
  },
  {
   "cell_type": "code",
   "execution_count": 27,
   "metadata": {
    "colab": {
     "base_uri": "https://localhost:8080/",
     "height": 520
    },
    "executionInfo": {
     "elapsed": 53,
     "status": "ok",
     "timestamp": 1751472394900,
     "user": {
      "displayName": "Isnan Nur Ahmad Wijayakusuma",
      "userId": "07940612313417886072"
     },
     "user_tz": -420
    },
    "id": "Qmpy4fmV64Mi",
    "outputId": "49143aba-9669-4b96-8078-501a5207539d"
   },
   "outputs": [
    {
     "data": {
      "text/html": [
       "<div>\n",
       "<style scoped>\n",
       "    .dataframe tbody tr th:only-of-type {\n",
       "        vertical-align: middle;\n",
       "    }\n",
       "\n",
       "    .dataframe tbody tr th {\n",
       "        vertical-align: top;\n",
       "    }\n",
       "\n",
       "    .dataframe thead th {\n",
       "        text-align: right;\n",
       "    }\n",
       "</style>\n",
       "<table border=\"1\" class=\"dataframe\">\n",
       "  <thead>\n",
       "    <tr style=\"text-align: right;\">\n",
       "      <th></th>\n",
       "      <th>Target</th>\n",
       "      <th>0</th>\n",
       "      <th>1</th>\n",
       "      <th>2</th>\n",
       "    </tr>\n",
       "  </thead>\n",
       "  <tbody>\n",
       "    <tr>\n",
       "      <th rowspan=\"3\" valign=\"top\">TransactionAmount</th>\n",
       "      <th>mean</th>\n",
       "      <td>0.149807</td>\n",
       "      <td>0.158314</td>\n",
       "      <td>0.156679</td>\n",
       "    </tr>\n",
       "    <tr>\n",
       "      <th>min</th>\n",
       "      <td>0.000313</td>\n",
       "      <td>0.000000</td>\n",
       "      <td>0.000031</td>\n",
       "    </tr>\n",
       "    <tr>\n",
       "      <th>max</th>\n",
       "      <td>0.953561</td>\n",
       "      <td>0.954092</td>\n",
       "      <td>1.000000</td>\n",
       "    </tr>\n",
       "    <tr>\n",
       "      <th rowspan=\"3\" valign=\"top\">CustomerAge</th>\n",
       "      <th>mean</th>\n",
       "      <td>0.413188</td>\n",
       "      <td>0.426389</td>\n",
       "      <td>0.448517</td>\n",
       "    </tr>\n",
       "    <tr>\n",
       "      <th>min</th>\n",
       "      <td>0.000000</td>\n",
       "      <td>0.000000</td>\n",
       "      <td>0.000000</td>\n",
       "    </tr>\n",
       "    <tr>\n",
       "      <th>max</th>\n",
       "      <td>1.000000</td>\n",
       "      <td>1.000000</td>\n",
       "      <td>1.000000</td>\n",
       "    </tr>\n",
       "    <tr>\n",
       "      <th rowspan=\"3\" valign=\"top\">TransactionDuration</th>\n",
       "      <th>mean</th>\n",
       "      <td>0.368845</td>\n",
       "      <td>0.382780</td>\n",
       "      <td>0.380998</td>\n",
       "    </tr>\n",
       "    <tr>\n",
       "      <th>min</th>\n",
       "      <td>0.000000</td>\n",
       "      <td>0.000000</td>\n",
       "      <td>0.000000</td>\n",
       "    </tr>\n",
       "    <tr>\n",
       "      <th>max</th>\n",
       "      <td>0.996552</td>\n",
       "      <td>1.000000</td>\n",
       "      <td>0.996552</td>\n",
       "    </tr>\n",
       "    <tr>\n",
       "      <th rowspan=\"3\" valign=\"top\">LoginAttempts</th>\n",
       "      <th>mean</th>\n",
       "      <td>0.036115</td>\n",
       "      <td>0.031642</td>\n",
       "      <td>0.022271</td>\n",
       "    </tr>\n",
       "    <tr>\n",
       "      <th>min</th>\n",
       "      <td>0.000000</td>\n",
       "      <td>0.000000</td>\n",
       "      <td>0.000000</td>\n",
       "    </tr>\n",
       "    <tr>\n",
       "      <th>max</th>\n",
       "      <td>1.000000</td>\n",
       "      <td>1.000000</td>\n",
       "      <td>1.000000</td>\n",
       "    </tr>\n",
       "    <tr>\n",
       "      <th rowspan=\"3\" valign=\"top\">AccountBalance</th>\n",
       "      <th>mean</th>\n",
       "      <td>0.333287</td>\n",
       "      <td>0.344464</td>\n",
       "      <td>0.328242</td>\n",
       "    </tr>\n",
       "    <tr>\n",
       "      <th>min</th>\n",
       "      <td>0.000064</td>\n",
       "      <td>0.000000</td>\n",
       "      <td>0.001125</td>\n",
       "    </tr>\n",
       "    <tr>\n",
       "      <th>max</th>\n",
       "      <td>0.997633</td>\n",
       "      <td>1.000000</td>\n",
       "      <td>0.997144</td>\n",
       "    </tr>\n",
       "  </tbody>\n",
       "</table>\n",
       "</div>"
      ],
      "text/plain": [
       "Target                           0         1         2\n",
       "TransactionAmount   mean  0.149807  0.158314  0.156679\n",
       "                    min   0.000313  0.000000  0.000031\n",
       "                    max   0.953561  0.954092  1.000000\n",
       "CustomerAge         mean  0.413188  0.426389  0.448517\n",
       "                    min   0.000000  0.000000  0.000000\n",
       "                    max   1.000000  1.000000  1.000000\n",
       "TransactionDuration mean  0.368845  0.382780  0.380998\n",
       "                    min   0.000000  0.000000  0.000000\n",
       "                    max   0.996552  1.000000  0.996552\n",
       "LoginAttempts       mean  0.036115  0.031642  0.022271\n",
       "                    min   0.000000  0.000000  0.000000\n",
       "                    max   1.000000  1.000000  1.000000\n",
       "AccountBalance      mean  0.333287  0.344464  0.328242\n",
       "                    min   0.000064  0.000000  0.001125\n",
       "                    max   0.997633  1.000000  0.997144"
      ]
     },
     "execution_count": 27,
     "metadata": {},
     "output_type": "execute_result"
    }
   ],
   "source": [
    "# Untuk numerikal\n",
    "summary = scaled_df.groupby('Target')[numerical_cols].agg(['mean', 'min', 'max'])\n",
    "summary_tranpos = summary.T\n",
    "summary_tranpos"
   ]
  },
  {
   "cell_type": "code",
   "execution_count": 28,
   "metadata": {
    "colab": {
     "base_uri": "https://localhost:8080/",
     "height": 195
    },
    "executionInfo": {
     "elapsed": 99,
     "status": "ok",
     "timestamp": 1751472395002,
     "user": {
      "displayName": "Isnan Nur Ahmad Wijayakusuma",
      "userId": "07940612313417886072"
     },
     "user_tz": -420
    },
    "id": "N-7fVc98w3bn",
    "outputId": "bc6da4eb-da44-4b88-a827-b92fabb8fde6"
   },
   "outputs": [
    {
     "data": {
      "text/html": [
       "<div>\n",
       "<style scoped>\n",
       "    .dataframe tbody tr th:only-of-type {\n",
       "        vertical-align: middle;\n",
       "    }\n",
       "\n",
       "    .dataframe tbody tr th {\n",
       "        vertical-align: top;\n",
       "    }\n",
       "\n",
       "    .dataframe thead th {\n",
       "        text-align: right;\n",
       "    }\n",
       "</style>\n",
       "<table border=\"1\" class=\"dataframe\">\n",
       "  <thead>\n",
       "    <tr style=\"text-align: right;\">\n",
       "      <th></th>\n",
       "      <th>TransactionDate</th>\n",
       "      <th>TransactionType</th>\n",
       "      <th>Location</th>\n",
       "      <th>Channel</th>\n",
       "      <th>CustomerOccupation</th>\n",
       "      <th>PreviousTransactionDate</th>\n",
       "    </tr>\n",
       "    <tr>\n",
       "      <th>Target</th>\n",
       "      <th></th>\n",
       "      <th></th>\n",
       "      <th></th>\n",
       "      <th></th>\n",
       "      <th></th>\n",
       "      <th></th>\n",
       "    </tr>\n",
       "  </thead>\n",
       "  <tbody>\n",
       "    <tr>\n",
       "      <th>0</th>\n",
       "      <td>0</td>\n",
       "      <td>1</td>\n",
       "      <td>5</td>\n",
       "      <td>1</td>\n",
       "      <td>3</td>\n",
       "      <td>240</td>\n",
       "    </tr>\n",
       "    <tr>\n",
       "      <th>1</th>\n",
       "      <td>2485</td>\n",
       "      <td>1</td>\n",
       "      <td>11</td>\n",
       "      <td>1</td>\n",
       "      <td>3</td>\n",
       "      <td>360</td>\n",
       "    </tr>\n",
       "    <tr>\n",
       "      <th>2</th>\n",
       "      <td>839</td>\n",
       "      <td>1</td>\n",
       "      <td>22</td>\n",
       "      <td>1</td>\n",
       "      <td>2</td>\n",
       "      <td>69</td>\n",
       "    </tr>\n",
       "  </tbody>\n",
       "</table>\n",
       "</div>"
      ],
      "text/plain": [
       "        TransactionDate  TransactionType  Location  Channel  \\\n",
       "Target                                                        \n",
       "0                     0                1         5        1   \n",
       "1                  2485                1        11        1   \n",
       "2                   839                1        22        1   \n",
       "\n",
       "        CustomerOccupation  PreviousTransactionDate  \n",
       "Target                                               \n",
       "0                        3                      240  \n",
       "1                        3                      360  \n",
       "2                        2                       69  "
      ]
     },
     "execution_count": 28,
     "metadata": {},
     "output_type": "execute_result"
    }
   ],
   "source": [
    "# Untuk kategorikal\n",
    "categorical_columns = scaled_df.drop(columns=numerical_cols)\n",
    "# Untuk mengetahui mode\n",
    "mode = categorical_columns.groupby('Target').agg(lambda x: x.mode()[0])\n",
    "mode"
   ]
  },
  {
   "cell_type": "markdown",
   "metadata": {
    "id": "ldfZJIsj4R2W"
   },
   "source": [
    "## Menjelaskan karakteristik tiap cluster berdasarkan rentangnya.\n",
    "Berikut adalah interpretasi karakteristik setiap cluster berdasarkan data yang sudah diproses (scaling dan encoding). Untuk interpretasi yang lebih presisi dengan nilai asli, disarankan melakukan inverse transform pada data.\n",
    "\n",
    "1. **Cluster 0: (Pelanggan Profil Moderat)**:\n",
    "  - **TransactionAmount:** mean=0.159, min=0.000, max=0.954\n",
    "  - **CustomerAge:** mean=0.428, min=0.000, max=1.000\n",
    "  - **TransactionDuration:** mean=0.382, min=0.000, max=1.000\n",
    "  - **LoginAttempts:** mean=0.032, min=0.000, max=1.000\n",
    "  - **AccountBalance:** mean=0.344, min=0.000, max=1.000\n",
    "  - **Mode TransactionType:** 1 (Debit)\n",
    "  - **Mode Channel:** 1 (Online/Channel Lainnya)\n",
    "  - **Mode CustomerOccupation:** 3 (Student/Occupasi Lainnya)\n",
    "  - **Analisis:** Cluster ini mewakili kelompok pelanggan dengan pola transaksi, usia, durasi transaksi, percobaan login, dan saldo akun yang secara umum berada di tingkat moderat atau rata-rata. Nilai minimum TransactionAmount bisa sangat rendah, sementara CustomerAge, TransactionDuration, LoginAttempts, dan AccountBalance bisa mencapai nilai maksimum dalam rentang scaled. Mereka cenderung melakukan transaksi Debit melalui Channel dan dengan Occupasi tertentu.\n",
    "  - **Rekomendasi:** Pertahankan layanan standar yang baik dan tawarkan produk atau promosi yang menarik bagi segmen pasar umum.\n",
    "\n",
    "2. **Cluster 1: (Pelanggan Aktivitas & Saldo Relatif Rendah)**:\n",
    "  - **TransactionAmount:** mean=0.150, min=0.000, max=0.954\n",
    "  - **CustomerAge:** mean=0.413, min=0.000, max=1.000\n",
    "  - **TransactionDuration:** mean=0.368, min=0.000, max=0.997\n",
    "  - **LoginAttempts:** mean=0.036, min=0.000, max=1.000\n",
    "  - **AccountBalance:** mean=0.333, min=0.000, max=0.998\n",
    "  - **Mode TransactionType:** 1 (Debit)\n",
    "  - **Mode Channel:** 1 (Online/Channel Lainnya)\n",
    "  - **Mode CustomerOccupation:** 3 (Student/Occupasi Lainnya)\n",
    "  - **Analisis:** Cluster ini mencakup pelanggan yang mungkin kurang aktif atau memiliki nilai transaksi, saldo akun, usia, dan durasi transaksi yang cenderung lebih rendah. Meskipun rata-ratanya lebih rendah, fitur seperti CustomerAge, TransactionDuration, dan LoginAttempts masih bisa mencapai nilai maksimum dalam rentang scaled. Pola kategorikalnya menunjukkan mode tanggal transaksi, Transaksi Debit melalui Channel dan Occupasi tertentu.\n",
    "  - **Rekomendasi:** Fokus pada program retensi pelanggan, tawarkan insentif untuk meningkatkan aktivitas transaksi, atau tawarkan produk dengan biaya rendah.\n",
    "\n",
    "3. **Cluster 2: (Pelanggan Usia & Durasi Tinggi, Saldo & Login Rendah)**:\n",
    "  - **TransactionAmount:** mean=0.156, min=0.000, max=1.000\n",
    "  - **CustomerAge:** mean=0.447, min=0.000, max=1.000\n",
    "  - **TransactionDuration:** mean=0.382, min=0.000, max=0.997\n",
    "  - **LoginAttempts:** mean=0.022, min=0.000, max=1.000\n",
    "  - **AccountBalance:** mean=0.328, min=0.001, max=0.997\n",
    "  - **Mode TransactionType:** 1 (Debit)\n",
    "  - **Mode Channel:** 1 (Online/Channel Lainnya)\n",
    "  - **Mode CustomerOccupation:** 2 (Professional/Occupasi Lainnya)\n",
    "  - **Analisis:** Cluster ini terdiri dari pelanggan yang cenderung lebih tua dan menghabiskan waktu lebih lama per transaksi, namun memiliki saldo akun yang lebih rendah dan jarang melakukan percobaan login berulang kali. Meskipun rata-rata LoginAttempts dan AccountBalance rendah, nilai maksimumnya masih bisa tinggi. Terdapat perbedaan pada mode Pekerjaan Pelanggan dan pola tanggal transaksi.\n",
    "  - **Rekomendasi:** Tawarkan layanan yang mudah digunakan dan dukungan yang baik, pertimbangkan produk atau layanan yang relevan dengan kelompok usia ini, dan mungkin tawarkan opsi pengelolaan keuangan yang sederhana."
   ]
  },
  {
   "cell_type": "markdown",
   "metadata": {
    "id": "jaYP1fx5VgWO"
   },
   "source": [
    "# **6. Mengeksport Data**\n",
    "\n",
    "1. Simpan nama kolom hasil clustering dengan nama `Target`.\n",
    "2. Simpan hasilnya ke dalam file CSV menggunakan function `to_csv()`."
   ]
  },
  {
   "cell_type": "code",
   "execution_count": null,
   "metadata": {
    "executionInfo": {
     "elapsed": 183,
     "status": "ok",
     "timestamp": 1751472395188,
     "user": {
      "displayName": "Isnan Nur Ahmad Wijayakusuma",
      "userId": "07940612313417886072"
     },
     "user_tz": -420
    },
    "id": "fkbg_o80aRSH"
   },
   "outputs": [],
   "source": [
    "# Simpan Data\n",
    "scaled_df.to_csv('data_clustering.csv', index=False)"
   ]
  },
  {
   "cell_type": "markdown",
   "metadata": {
    "id": "rz1vFc2yzFPD"
   },
   "source": [
    "(Opsional) Interpretasi Hasil Clustering [Skilled]\n",
    "\n",
    "**Biarkan kosong jika tidak menerapkan kriteria skilled**"
   ]
  },
  {
   "cell_type": "code",
   "execution_count": 30,
   "metadata": {
    "executionInfo": {
     "elapsed": 68,
     "status": "ok",
     "timestamp": 1751472395260,
     "user": {
      "displayName": "Isnan Nur Ahmad Wijayakusuma",
      "userId": "07940612313417886072"
     },
     "user_tz": -420
    },
    "id": "OMcRV15y_hH3"
   },
   "outputs": [],
   "source": [
    "# inverse dataset ke rentang normal untuk numerikal\n",
    "# df[numerical_cols] = <nama_scaler>.inverse_transform(df[numerical_cols])\n",
    "# tampilkan dataset yang sudah di-inverse\n",
    "# ___.head()"
   ]
  },
  {
   "cell_type": "code",
   "execution_count": 31,
   "metadata": {
    "executionInfo": {
     "elapsed": 29,
     "status": "ok",
     "timestamp": 1751472395263,
     "user": {
      "displayName": "Isnan Nur Ahmad Wijayakusuma",
      "userId": "07940612313417886072"
     },
     "user_tz": -420
    },
    "id": "wzIddcB6XjrC"
   },
   "outputs": [],
   "source": [
    "# inverse dataset yang sudah diencode ke kategori aslinya.\n",
    "# Lengkapi kode berikut jika ingin menerapkan kriteria ini (silakan hapus simbol pagar pada kode yang akan digunakan.)\n",
    "# for ___ in categorical_cols:\n",
    "#     ___ = encoders[col]\n",
    "#     df[col] = ___.inverse_transform(df_inverse[col].astype(int))\n",
    "# tampilkan dataset yang sudah di-inverse\n",
    "# ___.head()"
   ]
  },
  {
   "cell_type": "code",
   "execution_count": 32,
   "metadata": {
    "executionInfo": {
     "elapsed": 14,
     "status": "ok",
     "timestamp": 1751472395279,
     "user": {
      "displayName": "Isnan Nur Ahmad Wijayakusuma",
      "userId": "07940612313417886072"
     },
     "user_tz": -420
    },
    "id": "omCabiXBTklU"
   },
   "outputs": [],
   "source": [
    "# Lakukan analisis deskriptif minimal mean, min dan max untuk fitur numerik dan mode untuk kategorikal seperti pada basic tetapi menggunakan data yang sudah diinverse.\n",
    "# pastikan output menghasilkan agregasi dan groupby bersamaan dengan mean, min, dan max kembali setelah melakukan inverse."
   ]
  },
  {
   "cell_type": "markdown",
   "metadata": {
    "id": "WcaT8sxVzLs6"
   },
   "source": [
    "## Menjelaskan karakteristik tiap cluster berdasarkan rentangnya setelah inverse.\n",
    "1. **Cluster 1: (___)**:\n",
    "  - **Rata-rata (mean) <Fitur>:** <Sebelum inverse> <Setelah inverse>\n",
    "  - **Analisis:** Cluster ini ..."
   ]
  },
  {
   "cell_type": "markdown",
   "metadata": {
    "id": "jSd6vZslzatv"
   },
   "source": [
    "(Opsional) Interpretasi Hasil Clustering [Advanced]\n",
    "\n",
    "**Biarkan kosong jika tidak menerapkan kriteria advanced**"
   ]
  },
  {
   "cell_type": "code",
   "execution_count": 33,
   "metadata": {
    "executionInfo": {
     "elapsed": 41,
     "status": "ok",
     "timestamp": 1751472395337,
     "user": {
      "displayName": "Isnan Nur Ahmad Wijayakusuma",
      "userId": "07940612313417886072"
     },
     "user_tz": -420
    },
    "id": "4mGIyUZ2zRCP"
   },
   "outputs": [],
   "source": [
    "# Mengintegrasikan kembali data yang telah di-inverse dengan hasil cluster."
   ]
  },
  {
   "cell_type": "code",
   "execution_count": 34,
   "metadata": {
    "executionInfo": {
     "elapsed": 177,
     "status": "ok",
     "timestamp": 1751472395545,
     "user": {
      "displayName": "Isnan Nur Ahmad Wijayakusuma",
      "userId": "07940612313417886072"
     },
     "user_tz": -420
    },
    "id": "BEASz_Q__jms"
   },
   "outputs": [],
   "source": [
    "# Simpan Data\n",
    "# ___.to_csv('data_clustering_inverse.csv', index=False)"
   ]
  },
  {
   "cell_type": "markdown",
   "metadata": {
    "id": "sWOK6TDTL0eH"
   },
   "source": [
    "End of Code."
   ]
  }
 ],
 "metadata": {
  "colab": {
   "collapsed_sections": [
    "fKADPWcFKlj3"
   ],
   "provenance": []
  },
  "kernelspec": {
   "display_name": "Python 3",
   "name": "python3"
  },
  "language_info": {
   "codemirror_mode": {
    "name": "ipython",
    "version": 3
   },
   "file_extension": ".py",
   "mimetype": "text/x-python",
   "name": "python",
   "nbconvert_exporter": "python",
   "pygments_lexer": "ipython3",
   "version": "3.9.13"
  }
 },
 "nbformat": 4,
 "nbformat_minor": 0
}
